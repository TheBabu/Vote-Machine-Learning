{
 "cells": [
  {
   "cell_type": "markdown",
   "metadata": {},
   "source": [
    "**Import Libraries**"
   ]
  },
  {
   "cell_type": "code",
   "execution_count": 22,
   "metadata": {},
   "outputs": [],
   "source": [
    "from __future__ import print_function\n",
    "import math\n",
    "from IPython import display\n",
    "from matplotlib import cm\n",
    "from matplotlib import gridspec\n",
    "from matplotlib import pyplot as plt\n",
    "import numpy as np\n",
    "import pandas as pd\n",
    "from sklearn import metrics\n",
    "import tensorflow as tf\n",
    "from tensorflow.python.data import Dataset"
   ]
  },
  {
   "cell_type": "markdown",
   "metadata": {},
   "source": [
    "**Read CSV File and Randomize**"
   ]
  },
  {
   "cell_type": "code",
   "execution_count": 23,
   "metadata": {},
   "outputs": [],
   "source": [
    "#How likely to be Republican\n",
    "votes_dataframe = pd.read_csv(\"vote_csv.csv\")\n",
    "votes_dataframe = votes_dataframe.replace(\"y\", 1)\n",
    "votes_dataframe = votes_dataframe.replace(\"n\", 0)\n",
    "votes_dataframe = votes_dataframe.replace(\"republican\", 1)\n",
    "votes_dataframe = votes_dataframe.replace(\"democrat\", 0)\n",
    "\n",
    "#Fill Unfilled Data\n",
    "#votes_dataframe = votes_dataframe.fillna(0.5)\n",
    "\n",
    "#Drop Unfilled Data\n",
    "votes_dataframe.dropna(inplace=True)\n",
    "\n",
    "votes_dataframe = votes_dataframe.reindex(np.random.permutation(votes_dataframe.index))"
   ]
  },
  {
   "cell_type": "markdown",
   "metadata": {},
   "source": [
    "**Create Training and Validation Data**"
   ]
  },
  {
   "cell_type": "code",
   "execution_count": 24,
   "metadata": {},
   "outputs": [],
   "source": [
    "def preprocess_features(votes_dataframe):\n",
    "    output_features = votes_dataframe.iloc[:,0:16]\n",
    "    \n",
    "    return output_features"
   ]
  },
  {
   "cell_type": "code",
   "execution_count": 25,
   "metadata": {},
   "outputs": [],
   "source": [
    "#Single Panda Series\n",
    "def preprocess_targets(votes_dataframe):\n",
    "    output_targets = votes_dataframe[\"Class\"]\n",
    "\n",
    "    return output_targets"
   ]
  },
  {
   "cell_type": "code",
   "execution_count": 26,
   "metadata": {
    "scrolled": true
   },
   "outputs": [],
   "source": [
    "training_split = int(0.6 * len(votes_dataframe))\n",
    "validations_split = int(0.3 * len(votes_dataframe))\n",
    "\n",
    "#Panda Data\n",
    "training_examples = preprocess_features(votes_dataframe.iloc[0:training_split])\n",
    "training_targets = preprocess_targets(votes_dataframe.iloc[0:training_split])\n",
    "validation_examples = preprocess_features(votes_dataframe.iloc[training_split:training_split + validations_split])\n",
    "validation_targets = preprocess_targets(votes_dataframe.iloc[training_split:training_split + validations_split])\n",
    "#Do not touch until end!\n",
    "test_examples = preprocess_features(votes_dataframe.iloc[training_split + validations_split:])\n",
    "test_targets = preprocess_targets(votes_dataframe.iloc[training_split + validations_split:])"
   ]
  },
  {
   "cell_type": "markdown",
   "metadata": {},
   "source": [
    "**Training Functions**"
   ]
  },
  {
   "cell_type": "code",
   "execution_count": 27,
   "metadata": {},
   "outputs": [],
   "source": [
    "#From Google Crash Course\n",
    "#Create Tensorflow Columns\n",
    "def construct_feature_columns(input_features):\n",
    "  \"\"\"Construct the TensorFlow Feature Columns.\n",
    "\n",
    "  Args:\n",
    "    input_features: The names of the numerical input features to use.\n",
    "  Returns:\n",
    "    A set of feature columns\n",
    "  \"\"\" \n",
    "  return set([tf.feature_column.numeric_column(my_feature)\n",
    "              for my_feature in input_features])"
   ]
  },
  {
   "cell_type": "code",
   "execution_count": 28,
   "metadata": {},
   "outputs": [],
   "source": [
    "#Return next batch (Of type of Tensorflow Dataset)\n",
    "def input_fn(features, targets, batch_size=1, shuffle=True, num_epochs=None):\n",
    "    dataset = tf.data.Dataset.from_tensor_slices((dict(features), targets))\n",
    "    \n",
    "    if(shuffle):\n",
    "        dataset = dataset.shuffle(1000)\n",
    "    \n",
    "    dataset = dataset.batch(batch_size).repeat(num_epochs)\n",
    "    \n",
    "    return dataset"
   ]
  },
  {
   "cell_type": "code",
   "execution_count": 29,
   "metadata": {},
   "outputs": [],
   "source": [
    "def train_linear_classifier_model(\n",
    "    learning_rate,\n",
    "    steps,\n",
    "    batch_size,\n",
    "    training_examples,\n",
    "    training_targets,\n",
    "    validation_examples,\n",
    "    validation_targets):\n",
    "    \n",
    "    periods = 10\n",
    "    steps_per_period = steps / periods\n",
    "    \n",
    "    #Initialize Linear Classifier\n",
    "    optimizer = tf.train.GradientDescentOptimizer(learning_rate=learning_rate)\n",
    "    optimizer = tf.contrib.estimator.clip_gradients_by_norm(optimizer, 5.0)\n",
    "    linear_classifier = tf.estimator.LinearClassifier(\n",
    "        feature_columns=construct_feature_columns(training_examples),\n",
    "        optimizer=optimizer\n",
    "    )\n",
    "    \n",
    "    #Training Functions\n",
    "    training_input_fn = lambda: input_fn(\n",
    "        training_examples,\n",
    "        training_targets,\n",
    "        batch_size=batch_size) \n",
    "    predict_training_input_fn = lambda: input_fn(\n",
    "        training_examples, \n",
    "        training_targets, \n",
    "        num_epochs=1, \n",
    "        shuffle=False)\n",
    "    \n",
    "    #Validation Function\n",
    "    predict_validation_input_fn = lambda: input_fn(\n",
    "        validation_examples, \n",
    "        validation_targets, \n",
    "        num_epochs=1, \n",
    "        shuffle=False)\n",
    "    \n",
    "    #Train Model\n",
    "    training_log_losses = []\n",
    "    validation_log_losses = []\n",
    "    \n",
    "    print(\"Training Model\")\n",
    "    for period in range(0, periods):\n",
    "        linear_classifier.train(\n",
    "            input_fn=training_input_fn,\n",
    "            #Manually break total steps by 10\n",
    "            steps=steps_per_period\n",
    "        )\n",
    "        \n",
    "        #Use Sklearn to calculate Log Loss\n",
    "        training_probabilities = linear_classifier.predict(input_fn=predict_training_input_fn)\n",
    "        training_probabilities = np.array([item['probabilities'][0] for item in training_probabilities])\n",
    "        training_log_loss = metrics.log_loss(training_targets, training_probabilities)\n",
    "        \n",
    "        #Calculate Validation Log Loss\n",
    "        validation_probabilities = linear_classifier.predict(input_fn=predict_validation_input_fn)\n",
    "        validation_probabilities = np.array([item['probabilities'][0] for item in validation_probabilities])\n",
    "        validation_log_loss = metrics.log_loss(validation_targets, validation_probabilities)\n",
    "        \n",
    "        #Append Losses\n",
    "        training_log_losses.append(training_log_loss)\n",
    "        validation_log_losses.append(validation_log_loss)\n",
    "        \n",
    "        print(\"Period:\", period, \"Log Loss:\", training_log_loss)\n",
    "    print(\"Training Finished\")\n",
    "    \n",
    "    #Graph\n",
    "    plt.ylabel(\"Log Loss\")\n",
    "    plt.xlabel(\"Periods\")\n",
    "    plt.title(\"Log Loss vs. Periods\")\n",
    "    plt.tight_layout()\n",
    "    plt.plot(training_log_losses, label=\"training\")\n",
    "    plt.plot(validation_log_losses, label=\"validation\")\n",
    "    plt.legend()\n",
    "    \n",
    "    return linear_classifier"
   ]
  },
  {
   "cell_type": "code",
   "execution_count": 30,
   "metadata": {},
   "outputs": [],
   "source": [
    "def train_dnn_classifier_model(\n",
    "    learning_rate,\n",
    "    steps,\n",
    "    batch_size,\n",
    "    hidden_units,\n",
    "    training_examples,\n",
    "    training_targets,\n",
    "    validation_examples,\n",
    "    validation_targets):\n",
    "\n",
    "    periods = 10\n",
    "    steps_per_period = steps / periods\n",
    "    \n",
    "    #Initialize DNN Regressor\n",
    "    optimizer = tf.train.GradientDescentOptimizer(learning_rate=learning_rate)\n",
    "    optimizer = tf.contrib.estimator.clip_gradients_by_norm(optimizer, 5.0)\n",
    "    dnn_classifier = tf.estimator.DNNClassifier(\n",
    "        feature_columns=construct_feature_columns(training_examples),\n",
    "        hidden_units=hidden_units,\n",
    "        optimizer=optimizer,\n",
    "    )\n",
    "    \n",
    "    #Training Functions\n",
    "    training_input_fn = lambda: input_fn(\n",
    "        training_examples,\n",
    "        training_targets,\n",
    "        batch_size=batch_size) \n",
    "    predict_training_input_fn = lambda: input_fn(\n",
    "        training_examples, \n",
    "        training_targets, \n",
    "        num_epochs=1, \n",
    "        shuffle=False)\n",
    "    \n",
    "    #Validation Function\n",
    "    predict_validation_input_fn = lambda: input_fn(\n",
    "        validation_examples, \n",
    "        validation_targets, \n",
    "        num_epochs=1, \n",
    "        shuffle=False)\n",
    "    \n",
    "    #Train Model\n",
    "    training_log_losses = []\n",
    "    validation_log_losses = []\n",
    "    \n",
    "    print(\"Training Model\")\n",
    "    for period in range(0, periods):\n",
    "        dnn_classifier.train(\n",
    "            input_fn=training_input_fn,\n",
    "            #Manually break total steps by 10\n",
    "            steps=steps_per_period\n",
    "        )\n",
    "        \n",
    "        #Use Sklearn to calculate Log Loss\n",
    "        training_probabilities = dnn_classifier.predict(input_fn=predict_training_input_fn)\n",
    "        training_probabilities = np.array([item['probabilities'][0] for item in training_probabilities])\n",
    "        training_log_loss = metrics.log_loss(training_targets, training_probabilities)\n",
    "        \n",
    "        #Calculate Validation Log Loss\n",
    "        validation_probabilities = dnn_classifier.predict(input_fn=predict_validation_input_fn)\n",
    "        validation_probabilities = np.array([item['probabilities'][0] for item in validation_probabilities])\n",
    "        validation_log_loss = metrics.log_loss(validation_targets, validation_probabilities)\n",
    "        \n",
    "        #Append Losses\n",
    "        training_log_losses.append(training_log_loss)\n",
    "        validation_log_losses.append(validation_log_loss)\n",
    "        \n",
    "        print(\"Period:\", period, \"Log Loss:\", training_log_loss)\n",
    "    print(\"Training Finished\")\n",
    "    \n",
    "    #Graph\n",
    "    plt.ylabel(\"Log Loss\")\n",
    "    plt.xlabel(\"Periods\")\n",
    "    plt.title(\"Log Loss vs. Periods\")\n",
    "    plt.tight_layout()\n",
    "    plt.plot(training_log_losses, label=\"training\")\n",
    "    plt.plot(validation_log_losses, label=\"validation\")\n",
    "    plt.legend()\n",
    "    \n",
    "    return dnn_classifier"
   ]
  },
  {
   "cell_type": "markdown",
   "metadata": {},
   "source": [
    "**Training**"
   ]
  },
  {
   "cell_type": "code",
   "execution_count": 31,
   "metadata": {
    "scrolled": true
   },
   "outputs": [
    {
     "name": "stderr",
     "output_type": "stream",
     "text": [
      "W0706 17:01:28.430105 140718931932800 estimator.py:1811] Using temporary folder as model directory: /tmp/tmpd138auzi\n"
     ]
    },
    {
     "name": "stdout",
     "output_type": "stream",
     "text": [
      "Training Model\n",
      "Period: 0 Log Loss: 0.6932414422789923\n",
      "Period: 1 Log Loss: 0.6933367801227158\n",
      "Period: 2 Log Loss: 0.6934311767276242\n",
      "Period: 3 Log Loss: 0.6935238134946754\n",
      "Period: 4 Log Loss: 0.6936178340328684\n",
      "Period: 5 Log Loss: 0.6937116028593598\n",
      "Period: 6 Log Loss: 0.69380628419437\n",
      "Period: 7 Log Loss: 0.6939004728262373\n",
      "Period: 8 Log Loss: 0.693994805538397\n"
     ]
    },
    {
     "name": "stderr",
     "output_type": "stream",
     "text": [
      "W0706 17:02:27.665279 140718931932800 basic_session_run_hooks.py:724] It seems that global step (tf.train.get_global_step) has not been increased. Current value (could be stable): 696 vs previous value: 696. You could increase the global step by passing tf.train.get_global_step() to Optimizer.apply_gradients or Optimizer.minimize.\n"
     ]
    },
    {
     "name": "stdout",
     "output_type": "stream",
     "text": [
      "Period: 9 Log Loss: 0.6940877368981889\n",
      "Training Finished\n"
     ]
    },
    {
     "data": {
      "image/png": "[encoded data removed]",
      "text/plain": [
       "<Figure size 432x288 with 1 Axes>"
      ]
     },
     "metadata": {
      "needs_background": "light"
     },
     "output_type": "display_data"
    }
   ],
   "source": [
    "linear_classifier = train_linear_classifier_model(\n",
    "    learning_rate=0.0000005,\n",
    "    steps=750,\n",
    "    batch_size=20,\n",
    "    training_examples=training_examples,\n",
    "    training_targets=training_targets,\n",
    "    validation_examples=validation_examples,\n",
    "    validation_targets=validation_targets)"
   ]
  },
  {
   "cell_type": "code",
   "execution_count": 42,
   "metadata": {},
   "outputs": [
    {
     "name": "stderr",
     "output_type": "stream",
     "text": [
      "W0706 17:39:03.297501 140718931932800 estimator.py:1811] Using temporary folder as model directory: /tmp/tmp0i543uu9\n"
     ]
    },
    {
     "name": "stdout",
     "output_type": "stream",
     "text": [
      "Training Model\n",
      "Period: 0 Log Loss: 0.9785206558035432\n",
      "Period: 1 Log Loss: 0.9783495314982084\n",
      "Period: 2 Log Loss: 0.9781790305759838\n"
     ]
    },
    {
     "name": "stderr",
     "output_type": "stream",
     "text": [
      "W0706 17:39:13.386191 140718931932800 basic_session_run_hooks.py:724] It seems that global step (tf.train.get_global_step) has not been increased. Current value (could be stable): 294 vs previous value: 294. You could increase the global step by passing tf.train.get_global_step() to Optimizer.apply_gradients or Optimizer.minimize.\n"
     ]
    },
    {
     "name": "stdout",
     "output_type": "stream",
     "text": [
      "Period: 3 Log Loss: 0.9780112755411178\n",
      "Period: 4 Log Loss: 0.9778426273746027\n",
      "Period: 5 Log Loss: 0.9776717675782793\n",
      "Period: 6 Log Loss: 0.9775001229249316\n",
      "Period: 7 Log Loss: 0.97732589182129\n",
      "Period: 8 Log Loss: 0.9771533588604103\n",
      "Period: 9 Log Loss: 0.9769822337778566\n",
      "Training Finished\n"
     ]
    },
    {
     "data": {
      "image/png": "[encoded data removed]",
      "text/plain": [
       "<Figure size 432x288 with 1 Axes>"
      ]
     },
     "metadata": {
      "needs_background": "light"
     },
     "output_type": "display_data"
    }
   ],
   "source": [
    "dnn_classifier = train_dnn_classifier_model(\n",
    "    learning_rate=0.0000005,\n",
    "    steps=750,\n",
    "    batch_size=20,\n",
    "    hidden_units=[3, 2],\n",
    "    training_examples=training_examples,\n",
    "    training_targets=training_targets,\n",
    "    validation_examples=validation_examples,\n",
    "    validation_targets=validation_targets)"
   ]
  },
  {
   "cell_type": "markdown",
   "metadata": {},
   "source": [
    "**Test Data**"
   ]
  },
  {
   "cell_type": "code",
   "execution_count": 34,
   "metadata": {},
   "outputs": [],
   "source": [
    "def test_model(model, test_examples, test_targets):\n",
    "    predict_test_input_fn = lambda: input_fn(\n",
    "        test_examples, \n",
    "        test_targets, \n",
    "        num_epochs=1, \n",
    "        shuffle=False)\n",
    "    \n",
    "    test_predictions = model.predict(input_fn=predict_test_input_fn)\n",
    "    test_predictions = np.array([item['probabilities'][0] for item in test_predictions])\n",
    "\n",
    "    for prediction, label in zip(test_predictions, test_targets): \n",
    "        if(prediction > 0.5 and label or prediction < 0.5 and not label):\n",
    "            print(\"Probabilities:\", prediction, \"Label:\", label)\n",
    "        else:\n",
    "            print(\"Probabilities:\", prediction, \"Label:\", label, \"WRONG\")\n",
    "    \n",
    "    return test_predictions"
   ]
  },
  {
   "cell_type": "code",
   "execution_count": 35,
   "metadata": {
    "scrolled": true
   },
   "outputs": [
    {
     "name": "stdout",
     "output_type": "stream",
     "text": [
      "Probabilities: 0.5007026 Label: 0 WRONG\n",
      "Probabilities: 0.49943072 Label: 1 WRONG\n",
      "Probabilities: 0.5001762 Label: 0 WRONG\n",
      "Probabilities: 0.49936852 Label: 1 WRONG\n",
      "Probabilities: 0.50077116 Label: 0 WRONG\n",
      "Probabilities: 0.4998516 Label: 1 WRONG\n",
      "Probabilities: 0.50065136 Label: 0 WRONG\n",
      "Probabilities: 0.49994233 Label: 1 WRONG\n",
      "Probabilities: 0.50075 Label: 0 WRONG\n",
      "Probabilities: 0.5006899 Label: 0 WRONG\n",
      "Probabilities: 0.5007967 Label: 0 WRONG\n",
      "Probabilities: 0.50043285 Label: 0 WRONG\n",
      "Probabilities: 0.50059885 Label: 0 WRONG\n",
      "Probabilities: 0.5007967 Label: 0 WRONG\n",
      "Probabilities: 0.49956143 Label: 1 WRONG\n",
      "Probabilities: 0.49936852 Label: 1 WRONG\n",
      "Probabilities: 0.49970958 Label: 0\n",
      "Probabilities: 0.5004805 Label: 0 WRONG\n",
      "Probabilities: 0.50069726 Label: 0 WRONG\n",
      "Probabilities: 0.50065446 Label: 0 WRONG\n",
      "Probabilities: 0.49984273 Label: 1 WRONG\n",
      "Probabilities: 0.5005405 Label: 0 WRONG\n",
      "Probabilities: 0.50077116 Label: 0 WRONG\n",
      "Probabilities: 0.49959844 Label: 1 WRONG\n",
      "Test Log Loss: 0.6941691363851229\n"
     ]
    }
   ],
   "source": [
    "test_probabilities_linear_classifier = test_model(linear_classifier, test_examples, test_targets)\n",
    "test_log_loss_linear_classifier = metrics.log_loss(test_targets, test_probabilities_linear_classifier)\n",
    "print(\"Test Log Loss:\", test_log_loss_linear_classifier)"
   ]
  },
  {
   "cell_type": "code",
   "execution_count": 43,
   "metadata": {
    "scrolled": true
   },
   "outputs": [
    {
     "name": "stdout",
     "output_type": "stream",
     "text": [
      "Probabilities: 0.32939595 Label: 0\n",
      "Probabilities: 0.1790737 Label: 1 WRONG\n",
      "Probabilities: 0.073825 Label: 0\n",
      "Probabilities: 0.2882472 Label: 1 WRONG\n",
      "Probabilities: 0.18557194 Label: 0\n",
      "Probabilities: 0.23182441 Label: 1 WRONG\n",
      "Probabilities: 0.04737163 Label: 0\n",
      "Probabilities: 0.11999709 Label: 1 WRONG\n",
      "Probabilities: 0.10442496 Label: 0\n",
      "Probabilities: 0.14685658 Label: 0\n",
      "Probabilities: 0.14684889 Label: 0\n",
      "Probabilities: 0.23107773 Label: 0\n",
      "Probabilities: 0.18830135 Label: 0\n",
      "Probabilities: 0.14684889 Label: 0\n",
      "Probabilities: 0.13274612 Label: 1 WRONG\n",
      "Probabilities: 0.2882472 Label: 1 WRONG\n",
      "Probabilities: 0.036131117 Label: 0\n",
      "Probabilities: 0.032228634 Label: 0\n",
      "Probabilities: 0.10032238 Label: 0\n",
      "Probabilities: 0.18705092 Label: 0\n",
      "Probabilities: 0.11753234 Label: 1 WRONG\n",
      "Probabilities: 0.12210366 Label: 0\n",
      "Probabilities: 0.18557194 Label: 0\n",
      "Probabilities: 0.09820796 Label: 1 WRONG\n",
      "Test Log Loss: 0.6990414831476907\n"
     ]
    }
   ],
   "source": [
    "test_probabilities_dnn_classifier = test_model(dnn_classifier, test_examples, test_targets)\n",
    "test_log_loss_dnn_classifier = metrics.log_loss(test_targets, test_probabilities_dnn_classifier)\n",
    "print(\"Test Log Loss:\", test_log_loss_dnn_classifier)"
   ]
  },
  {
   "cell_type": "markdown",
   "metadata": {},
   "source": [
    "**Additional Info**"
   ]
  },
  {
   "cell_type": "code",
   "execution_count": 37,
   "metadata": {},
   "outputs": [
    {
     "name": "stdout",
     "output_type": "stream",
     "text": [
      "global_step 750\n",
      "linear/linear_model/adoption-of-the-budget-resolution/weights [[-0.00056894]]\n",
      "linear/linear_model/aid-to-nicaraguan-contras/weights [[-0.00054438]]\n",
      "linear/linear_model/anti-satellite-test-ban/weights [[-0.00043369]]\n",
      "linear/linear_model/bias_weights [-9.1120106e-05]\n",
      "linear/linear_model/crime/weights [[0.00042715]]\n",
      "linear/linear_model/duty-free-exports/weights [[-0.00039783]]\n",
      "linear/linear_model/education-spending/weights [[0.00052309]]\n",
      "linear/linear_model/el-salvador-aid/weights [[0.00052225]]\n",
      "linear/linear_model/export-administration-act-south-africa/weights [[-0.00027403]]\n",
      "linear/linear_model/handicapped-infants/weights [[-0.00027421]]\n",
      "linear/linear_model/immigration/weights [[-0.00010221]]\n",
      "linear/linear_model/mx-missile/weights [[-0.00050046]]\n",
      "linear/linear_model/physician-fee-freeze/weights [[0.00068271]]\n",
      "linear/linear_model/religious-groups-in-schools/weights [[0.00026027]]\n",
      "linear/linear_model/superfund-right-to-sue/weights [[0.00030376]]\n",
      "linear/linear_model/synfuels-corporation-cutback/weights [[-0.00027232]]\n",
      "linear/linear_model/water-project-cost-sharing/weights [[-7.6818134e-05]]\n"
     ]
    }
   ],
   "source": [
    "#Linear Classifier Weights\n",
    "for v in linear_classifier.get_variable_names():\n",
    "    print(v, linear_classifier.get_variable_value(v))"
   ]
  },
  {
   "cell_type": "code",
   "execution_count": 45,
   "metadata": {},
   "outputs": [
    {
     "name": "stdout",
     "output_type": "stream",
     "text": [
      "dnn/hiddenlayer_0/bias \n",
      " [ 3.1151962e-05 -4.7468970e-04  5.8731737e-05]\n",
      "dnn/hiddenlayer_0/kernel \n",
      " [[ 0.33645305  0.2513807  -0.06021586]\n",
      " [-0.01934015 -0.09563034 -0.17895572]\n",
      " [ 0.19100334  0.39846545 -0.21156757]\n",
      " [-0.16221811 -0.04426866 -0.33049086]\n",
      " [-0.34297365 -0.4080803  -0.03980541]\n",
      " [ 0.25961864 -0.25284326 -0.30887458]\n",
      " [-0.37476477 -0.00825941 -0.5081841 ]\n",
      " [-0.32041174  0.08119075 -0.48694158]\n",
      " [ 0.2383075   0.5482314   0.5342663 ]\n",
      " [ 0.48625177  0.24441756 -0.00113843]\n",
      " [-0.41492507  0.28122237  0.19866587]\n",
      " [ 0.36515445  0.47044933 -0.00207619]\n",
      " [ 0.07932837  0.12230422  0.03662658]\n",
      " [-0.45190465  0.17221002 -0.20559797]\n",
      " [-0.04906456  0.45737877 -0.22975838]\n",
      " [-0.5368177   0.54710996  0.38690424]]\n",
      "dnn/hiddenlayer_1/bias \n",
      " [ 0.         -0.00045206]\n",
      "dnn/hiddenlayer_1/kernel \n",
      " [[ 0.52319515 -0.30066368]\n",
      " [-0.51898557  1.0496643 ]\n",
      " [ 1.0715752  -1.0804316 ]]\n",
      "dnn/logits/bias \n",
      " [-0.00033859]\n",
      "dnn/logits/kernel \n",
      " [[-0.68805504]\n",
      " [ 1.3348042 ]]\n",
      "global_step \n",
      " 750\n"
     ]
    }
   ],
   "source": [
    "#DNN Classifier Weights\n",
    "for v in dnn_classifier.get_variable_names():\n",
    "    print(v, \"\\n\", dnn_classifier.get_variable_value(v))"
   ]
  }
 ],
 "metadata": {
  "kernelspec": {
   "display_name": "Python 3",
   "language": "python",
   "name": "python3"
  },
  "language_info": {
   "codemirror_mode": {
    "name": "ipython",
    "version": 3
   },
   "file_extension": ".py",
   "mimetype": "text/x-python",
   "name": "python",
   "nbconvert_exporter": "python",
   "pygments_lexer": "ipython3",
   "version": "3.7.3"
  }
 },
 "nbformat": 4,
 "nbformat_minor": 2
}
