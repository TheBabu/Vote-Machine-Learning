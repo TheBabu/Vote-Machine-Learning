{
 "cells": [
  {
   "cell_type": "markdown",
   "metadata": {},
   "source": [
    "**Import Libraries**"
   ]
  },
  {
   "cell_type": "code",
   "execution_count": 14,
   "metadata": {},
   "outputs": [],
   "source": [
    "from __future__ import print_function\n",
    "import math\n",
    "from IPython import display\n",
    "from matplotlib import cm\n",
    "from matplotlib import gridspec\n",
    "from matplotlib import pyplot as plt\n",
    "import numpy as np\n",
    "import pandas as pd\n",
    "from sklearn import metrics\n",
    "import tensorflow as tf\n",
    "from tensorflow.python.data import Dataset"
   ]
  },
  {
   "cell_type": "markdown",
   "metadata": {},
   "source": [
    "**Read CSV File and Randomize**"
   ]
  },
  {
   "cell_type": "code",
   "execution_count": 57,
   "metadata": {},
   "outputs": [],
   "source": [
    "#How likely to be Republican\n",
    "votes_dataframe = pd.read_csv(\"vote_csv.csv\")\n",
    "votes_dataframe = votes_dataframe.replace(\"y\", 1)\n",
    "votes_dataframe = votes_dataframe.replace(\"n\", 0)\n",
    "votes_dataframe = votes_dataframe.replace(\"republican\", 1)\n",
    "votes_dataframe = votes_dataframe.replace(\"democrat\", 0)\n",
    "\n",
    "#Fill Unfilled Data\n",
    "votes_dataframe = votes_dataframe.fillna(0.5)\n",
    "\n",
    "#Drop Unfilled Data\n",
    "#votes_dataframe.dropna(inplace=True)\n",
    "\n",
    "votes_dataframe = votes_dataframe.reindex(np.random.permutation(votes_dataframe.index))"
   ]
  },
  {
   "cell_type": "markdown",
   "metadata": {},
   "source": [
    "**Create Training and Validation Data**"
   ]
  },
  {
   "cell_type": "code",
   "execution_count": 48,
   "metadata": {},
   "outputs": [],
   "source": [
    "def preprocess_features(votes_dataframe):\n",
    "    output_features = votes_dataframe.iloc[:,0:16]\n",
    "    \n",
    "    return output_features"
   ]
  },
  {
   "cell_type": "code",
   "execution_count": 49,
   "metadata": {},
   "outputs": [],
   "source": [
    "#Single Panda Series\n",
    "def preprocess_targets(votes_dataframe):\n",
    "    output_targets = votes_dataframe[\"Class\"]\n",
    "\n",
    "    return output_targets"
   ]
  },
  {
   "cell_type": "code",
   "execution_count": 50,
   "metadata": {
    "scrolled": true
   },
   "outputs": [],
   "source": [
    "training_split = int(0.6 * len(votes_dataframe))\n",
    "validations_split = int(0.3 * len(votes_dataframe))\n",
    "\n",
    "#Panda Data\n",
    "training_examples = preprocess_features(votes_dataframe.iloc[0:training_split])\n",
    "training_targets = preprocess_targets(votes_dataframe.iloc[0:training_split])\n",
    "validation_examples = preprocess_features(votes_dataframe.iloc[training_split:training_split + validations_split])\n",
    "validation_targets = preprocess_targets(votes_dataframe.iloc[training_split:training_split + validations_split])\n",
    "#Do not touch until end!\n",
    "test_examples = preprocess_features(votes_dataframe.iloc[training_split + validations_split:])\n",
    "test_targets = preprocess_targets(votes_dataframe.iloc[training_split + validations_split:])"
   ]
  },
  {
   "cell_type": "markdown",
   "metadata": {},
   "source": [
    "**Training Functions**"
   ]
  },
  {
   "cell_type": "code",
   "execution_count": 51,
   "metadata": {},
   "outputs": [],
   "source": [
    "#From Google Crash Course\n",
    "#Create Tensorflow Columns\n",
    "def construct_feature_columns(input_features):\n",
    "  \"\"\"Construct the TensorFlow Feature Columns.\n",
    "\n",
    "  Args:\n",
    "    input_features: The names of the numerical input features to use.\n",
    "  Returns:\n",
    "    A set of feature columns\n",
    "  \"\"\" \n",
    "  return set([tf.feature_column.numeric_column(my_feature)\n",
    "              for my_feature in input_features])"
   ]
  },
  {
   "cell_type": "code",
   "execution_count": 52,
   "metadata": {},
   "outputs": [],
   "source": [
    "#Return next batch (Of type of Tensorflow Dataset)\n",
    "def input_fn(features, targets, batch_size=1, shuffle=True, num_epochs=None):\n",
    "    dataset = tf.data.Dataset.from_tensor_slices((dict(features), targets))\n",
    "    \n",
    "    if(shuffle):\n",
    "        dataset = dataset.shuffle(1000)\n",
    "    \n",
    "    dataset = dataset.batch(batch_size).repeat(num_epochs)\n",
    "    \n",
    "    return dataset"
   ]
  },
  {
   "cell_type": "code",
   "execution_count": 55,
   "metadata": {},
   "outputs": [],
   "source": [
    "def train_dnn_classifier_model(\n",
    "    learning_rate,\n",
    "    steps,\n",
    "    batch_size,\n",
    "    hidden_units,\n",
    "    training_examples,\n",
    "    training_targets,\n",
    "    validation_examples,\n",
    "    validation_targets):\n",
    "\n",
    "    periods = 10\n",
    "    steps_per_period = steps / periods\n",
    "    \n",
    "    #Initialize DNN Regressor\n",
    "    optimizer = tf.train.GradientDescentOptimizer(learning_rate=learning_rate)\n",
    "    optimizer = tf.contrib.estimator.clip_gradients_by_norm(optimizer, 5.0)\n",
    "    dnn_ = tf.estimator.DNNRegressor(\n",
    "        feature_columns=construct_feature_columns(training_examples),\n",
    "        hidden_units=hidden_units,\n",
    "        optimizer=optimizer,\n",
    "    )\n",
    "    \n",
    "    #Training Functions\n",
    "    training_input_fn = lambda: input_fn(\n",
    "        training_examples,\n",
    "        training_targets,\n",
    "        batch_size=batch_size) \n",
    "    predict_training_input_fn = lambda: input_fn(\n",
    "        training_examples, \n",
    "        training_targets, \n",
    "        num_epochs=1, \n",
    "        shuffle=False)\n",
    "    \n",
    "    #Validation Function\n",
    "    predict_validation_input_fn = lambda: input_fn(\n",
    "        validation_examples, \n",
    "        validation_targets, \n",
    "        num_epochs=1, \n",
    "        shuffle=False)\n",
    "    \n",
    "    #Train Model\n",
    "    training_log_losses = []\n",
    "    validation_log_losses = []\n",
    "    \n",
    "    print(\"Training Model\")\n",
    "    for period in range(0, periods):\n",
    "        linear_classifier.train(\n",
    "            input_fn=training_input_fn,\n",
    "            #Manually break total steps by 10\n",
    "            steps=steps_per_period\n",
    "        )\n",
    "        \n",
    "        #Use Sklearn to calculate Log Loss\n",
    "        training_probabilities = linear_classifier.predict(input_fn=predict_training_input_fn)\n",
    "        training_probabilities = np.array([item['probabilities'][0] for item in training_probabilities])\n",
    "        training_log_loss = metrics.log_loss(training_targets, training_probabilities)\n",
    "        \n",
    "        #Calculate Validation Log Loss\n",
    "        validation_probabilities = linear_classifier.predict(input_fn=predict_validation_input_fn)\n",
    "        validation_probabilities = np.array([item['probabilities'][0] for item in validation_probabilities])\n",
    "        validation_log_loss = metrics.log_loss(validation_targets, validation_probabilities)\n",
    "        \n",
    "        #Append Losses\n",
    "        training_log_losses.append(training_log_loss)\n",
    "        validation_log_losses.append(validation_log_loss)\n",
    "        \n",
    "        print(\"Period:\", period, \"Log Loss:\", training_log_loss)\n",
    "    print(\"Training Finished\")\n",
    "    \n",
    "    #Graph\n",
    "    plt.ylabel(\"RMSE\")\n",
    "    plt.xlabel(\"Periods\")\n",
    "    plt.title(\"Root Mean Squared Error vs. Periods\")\n",
    "    plt.tight_layout()\n",
    "    plt.plot(training_rmse, label=\"training\")\n",
    "    plt.plot(validation_rmse, label=\"validation\")\n",
    "    plt.legend()\n",
    "    \n",
    "    return dnn_regressor"
   ]
  },
  {
   "cell_type": "markdown",
   "metadata": {},
   "source": [
    "**Training**"
   ]
  },
  {
   "cell_type": "code",
   "execution_count": 56,
   "metadata": {
    "scrolled": true
   },
   "outputs": [
    {
     "name": "stderr",
     "output_type": "stream",
     "text": [
      "W0706 16:22:27.943478 140516379862656 estimator.py:1811] Using temporary folder as model directory: /tmp/tmpksgmnxul\n"
     ]
    },
    {
     "name": "stdout",
     "output_type": "stream",
     "text": [
      "Training Model\n",
      "Period: 0 Log Loss: 0.6932365978814633\n",
      "Period: 1 Log Loss: 0.6933235144706521\n",
      "Period: 2 Log Loss: 0.6934112652964975\n",
      "Period: 3 Log Loss: 0.6934992403819643\n",
      "Period: 4 Log Loss: 0.6935868649190413\n"
     ]
    },
    {
     "name": "stderr",
     "output_type": "stream",
     "text": [
      "W0706 16:23:00.948892 140516379862656 basic_session_run_hooks.py:724] It seems that global step (tf.train.get_global_step) has not been increased. Current value (could be stable): 413 vs previous value: 413. You could increase the global step by passing tf.train.get_global_step() to Optimizer.apply_gradients or Optimizer.minimize.\n"
     ]
    },
    {
     "name": "stdout",
     "output_type": "stream",
     "text": [
      "Period: 5 Log Loss: 0.6936768953370865\n",
      "Period: 6 Log Loss: 0.69376733887698\n",
      "Period: 7 Log Loss: 0.6938552502471368\n",
      "Period: 8 Log Loss: 0.6939460452489012\n"
     ]
    },
    {
     "name": "stderr",
     "output_type": "stream",
     "text": [
      "W0706 16:23:23.039597 140516379862656 basic_session_run_hooks.py:724] It seems that global step (tf.train.get_global_step) has not been increased. Current value (could be stable): 734 vs previous value: 734. You could increase the global step by passing tf.train.get_global_step() to Optimizer.apply_gradients or Optimizer.minimize.\n"
     ]
    },
    {
     "name": "stdout",
     "output_type": "stream",
     "text": [
      "Period: 9 Log Loss: 0.6940332358824339\n",
      "Training Finished\n"
     ]
    },
    {
     "data": {
      "image/png": "[encoded data removed]",
      "text/plain": [
       "<Figure size 432x288 with 1 Axes>"
      ]
     },
     "metadata": {
      "needs_background": "light"
     },
     "output_type": "display_data"
    }
   ],
   "source": [
    "linear_classifier = train_linear_classifier_model(\n",
    "    learning_rate=0.0000005,\n",
    "    steps=750,\n",
    "    batch_size=20,\n",
    "    training_examples=training_examples,\n",
    "    training_targets=training_targets,\n",
    "    validation_examples=validation_examples,\n",
    "    validation_targets=validation_targets)"
   ]
  },
  {
   "cell_type": "markdown",
   "metadata": {},
   "source": [
    "**Test Data**"
   ]
  },
  {
   "cell_type": "code",
   "execution_count": 58,
   "metadata": {},
   "outputs": [],
   "source": [
    "def test_model(model, test_examples, test_targets):\n",
    "    predict_test_input_fn = lambda: input_fn(\n",
    "        test_examples, \n",
    "        test_targets, \n",
    "        num_epochs=1, \n",
    "        shuffle=False)\n",
    "    \n",
    "    test_predictions = model.predict(input_fn=predict_test_input_fn)\n",
    "    test_predictions = np.array([item['probabilities'][0] for item in test_predictions])\n",
    "\n",
    "    for prediction, label in zip(test_predictions, test_targets): \n",
    "        if(prediction > 0.5 and label or prediction < 0.5 and not label):\n",
    "            print(\"Probabilities:\", prediction, \"Label:\", label)\n",
    "        else:\n",
    "            print(\"Probabilities:\", prediction, \"Label:\", label, \"WRONG\")\n",
    "    \n",
    "    return test_predictions"
   ]
  },
  {
   "cell_type": "code",
   "execution_count": 59,
   "metadata": {
    "scrolled": true
   },
   "outputs": [
    {
     "name": "stdout",
     "output_type": "stream",
     "text": [
      "Probabilities: 0.4996244 Label: 1 WRONG\n",
      "Probabilities: 0.5008133 Label: 0 WRONG\n",
      "Probabilities: 0.5008879 Label: 0 WRONG\n",
      "Probabilities: 0.500762 Label: 0 WRONG\n",
      "Probabilities: 0.5008538 Label: 0 WRONG\n",
      "Probabilities: 0.49965304 Label: 1 WRONG\n",
      "Probabilities: 0.5002886 Label: 0 WRONG\n",
      "Probabilities: 0.500644 Label: 0 WRONG\n",
      "Probabilities: 0.500832 Label: 0 WRONG\n",
      "Probabilities: 0.4997425 Label: 1 WRONG\n",
      "Probabilities: 0.49969852 Label: 1 WRONG\n",
      "Probabilities: 0.50060385 Label: 1\n",
      "Probabilities: 0.5009923 Label: 0 WRONG\n",
      "Probabilities: 0.5008056 Label: 0 WRONG\n",
      "Probabilities: 0.4999052 Label: 1 WRONG\n",
      "Probabilities: 0.5008056 Label: 0 WRONG\n",
      "Probabilities: 0.49971387 Label: 1 WRONG\n",
      "Probabilities: 0.5008115 Label: 0 WRONG\n",
      "Probabilities: 0.5008481 Label: 0 WRONG\n",
      "Probabilities: 0.49987075 Label: 1 WRONG\n",
      "Probabilities: 0.50077975 Label: 0 WRONG\n",
      "Probabilities: 0.49965304 Label: 1 WRONG\n",
      "Probabilities: 0.5007757 Label: 0 WRONG\n",
      "Probabilities: 0.4996244 Label: 1 WRONG\n",
      "Probabilities: 0.5006377 Label: 0 WRONG\n",
      "Probabilities: 0.49982485 Label: 1 WRONG\n",
      "Probabilities: 0.50088745 Label: 0 WRONG\n",
      "Probabilities: 0.5009412 Label: 0 WRONG\n",
      "Probabilities: 0.49966893 Label: 1 WRONG\n",
      "Probabilities: 0.5009402 Label: 0 WRONG\n",
      "Probabilities: 0.5002185 Label: 0 WRONG\n",
      "Probabilities: 0.5002963 Label: 0 WRONG\n",
      "Probabilities: 0.50091 Label: 0 WRONG\n",
      "Probabilities: 0.50026387 Label: 0 WRONG\n",
      "Probabilities: 0.5008589 Label: 0 WRONG\n",
      "Probabilities: 0.50016797 Label: 1\n",
      "Probabilities: 0.5009038 Label: 0 WRONG\n",
      "Probabilities: 0.49973536 Label: 1 WRONG\n",
      "Probabilities: 0.500832 Label: 0 WRONG\n",
      "Probabilities: 0.4996244 Label: 1 WRONG\n",
      "Probabilities: 0.49975938 Label: 1 WRONG\n",
      "Probabilities: 0.50086844 Label: 0 WRONG\n",
      "Probabilities: 0.49964032 Label: 1 WRONG\n",
      "Probabilities: 0.5005648 Label: 0 WRONG\n",
      "Test Log Loss: 0.6942167485302145\n"
     ]
    }
   ],
   "source": [
    "test_probabilities = test_model(linear_classifier, test_examples, test_targets)\n",
    "test_log_loss = metrics.log_loss(test_targets, test_probabilities)\n",
    "print(\"Test Log Loss:\", test_log_loss)"
   ]
  },
  {
   "cell_type": "markdown",
   "metadata": {},
   "source": [
    "**Additional Info**"
   ]
  },
  {
   "cell_type": "code",
   "execution_count": 60,
   "metadata": {},
   "outputs": [
    {
     "name": "stdout",
     "output_type": "stream",
     "text": [
      "global_step 750\n",
      "linear/linear_model/adoption-of-the-budget-resolution/weights [[-0.00063838]]\n",
      "linear/linear_model/aid-to-nicaraguan-contras/weights [[-0.00057963]]\n",
      "linear/linear_model/anti-satellite-test-ban/weights [[-0.00047666]]\n",
      "linear/linear_model/bias_weights [-0.00025118]\n",
      "linear/linear_model/crime/weights [[0.00023111]]\n",
      "linear/linear_model/duty-free-exports/weights [[-0.00044417]]\n",
      "linear/linear_model/education-spending/weights [[0.00034878]]\n",
      "linear/linear_model/el-salvador-aid/weights [[0.00035422]]\n",
      "linear/linear_model/export-administration-act-south-africa/weights [[-0.00029439]]\n",
      "linear/linear_model/handicapped-infants/weights [[-0.00036033]]\n",
      "linear/linear_model/immigration/weights [[-6.358395e-05]]\n",
      "linear/linear_model/mx-missile/weights [[-0.00053794]]\n",
      "linear/linear_model/physician-fee-freeze/weights [[0.00052311]]\n",
      "linear/linear_model/religious-groups-in-schools/weights [[0.00010706]]\n",
      "linear/linear_model/superfund-right-to-sue/weights [[0.00018933]]\n",
      "linear/linear_model/synfuels-corporation-cutback/weights [[-0.00032931]]\n",
      "linear/linear_model/water-project-cost-sharing/weights [[-0.00011461]]\n"
     ]
    }
   ],
   "source": [
    "#Linear Regressor Weights\n",
    "for v in linear_classifier.get_variable_names():\n",
    "    print(v, linear_classifier.get_variable_value(v))"
   ]
  }
 ],
 "metadata": {
  "kernelspec": {
   "display_name": "Python 3",
   "language": "python",
   "name": "python3"
  },
  "language_info": {
   "codemirror_mode": {
    "name": "ipython",
    "version": 3
   },
   "file_extension": ".py",
   "mimetype": "text/x-python",
   "name": "python",
   "nbconvert_exporter": "python",
   "pygments_lexer": "ipython3",
   "version": "3.7.3"
  }
 },
 "nbformat": 4,
 "nbformat_minor": 2
}
