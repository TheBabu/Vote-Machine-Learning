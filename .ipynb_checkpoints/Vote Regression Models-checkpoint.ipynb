{
 "cells": [
  {
   "cell_type": "markdown",
   "metadata": {},
   "source": [
    "**Import Libraries**"
   ]
  },
  {
   "cell_type": "code",
   "execution_count": 1,
   "metadata": {},
   "outputs": [
    {
     "name": "stderr",
     "output_type": "stream",
     "text": [
      "WARNING: Logging before flag parsing goes to stderr.\n",
      "W0706 17:01:57.266547 140537045276288 __init__.py:308] Limited tf.compat.v2.summary API due to missing TensorBoard installation.\n"
     ]
    }
   ],
   "source": [
    "from __future__ import print_function\n",
    "import math\n",
    "from IPython import display\n",
    "from matplotlib import cm\n",
    "from matplotlib import gridspec\n",
    "from matplotlib import pyplot as plt\n",
    "import numpy as np\n",
    "import pandas as pd\n",
    "from sklearn import metrics\n",
    "import tensorflow as tf\n",
    "from tensorflow.python.data import Dataset"
   ]
  },
  {
   "cell_type": "markdown",
   "metadata": {},
   "source": [
    "**Read CSV File and Randomize**"
   ]
  },
  {
   "cell_type": "code",
   "execution_count": 2,
   "metadata": {},
   "outputs": [],
   "source": [
    "votes_dataframe = pd.read_csv(\"vote_csv.csv\")\n",
    "#Yes 1\n",
    "#No -1\n",
    "#NaN 0\n",
    "#Republican 1\n",
    "#Democrat -1\n",
    "votes_dataframe = votes_dataframe.replace(\"y\", 1)\n",
    "votes_dataframe = votes_dataframe.replace(\"n\", -1)\n",
    "votes_dataframe = votes_dataframe.replace(\"republican\", 1)\n",
    "votes_dataframe = votes_dataframe.replace(\"democrat\", -1)\n",
    "votes_dataframe = votes_dataframe.fillna(0)\n",
    "votes_dataframe = votes_dataframe.reindex(np.random.permutation(votes_dataframe.index))"
   ]
  },
  {
   "cell_type": "markdown",
   "metadata": {},
   "source": [
    "**Create Training and Validation Data**"
   ]
  },
  {
   "cell_type": "code",
   "execution_count": 3,
   "metadata": {},
   "outputs": [],
   "source": [
    "def preprocess_features(votes_dataframe):\n",
    "    output_features = votes_dataframe.iloc[:,0:16]\n",
    "    \n",
    "    return output_features"
   ]
  },
  {
   "cell_type": "code",
   "execution_count": 4,
   "metadata": {},
   "outputs": [],
   "source": [
    "#Single Panda Series\n",
    "def preprocess_targets(votes_dataframe):\n",
    "    output_targets = votes_dataframe[\"Class\"]\n",
    "\n",
    "    return output_targets"
   ]
  },
  {
   "cell_type": "code",
   "execution_count": 5,
   "metadata": {
    "scrolled": true
   },
   "outputs": [],
   "source": [
    "training_split = int(0.6 * len(votes_dataframe))\n",
    "validations_split = int(0.3 * len(votes_dataframe))\n",
    "\n",
    "#Panda Data\n",
    "training_examples = preprocess_features(votes_dataframe.iloc[0:training_split])\n",
    "training_targets = preprocess_targets(votes_dataframe.iloc[0:training_split])\n",
    "validation_examples = preprocess_features(votes_dataframe.iloc[training_split:training_split + validations_split])\n",
    "validation_targets = preprocess_targets(votes_dataframe.iloc[training_split:training_split + validations_split])\n",
    "#Do not touch until end!\n",
    "test_examples = preprocess_features(votes_dataframe.iloc[training_split + validations_split:])\n",
    "test_targets = preprocess_targets(votes_dataframe.iloc[training_split + validations_split:])"
   ]
  },
  {
   "cell_type": "markdown",
   "metadata": {},
   "source": [
    "**Training Functions**"
   ]
  },
  {
   "cell_type": "code",
   "execution_count": 6,
   "metadata": {},
   "outputs": [],
   "source": [
    "#From Google Crash Course\n",
    "#Create Tensorflow Columns\n",
    "def construct_feature_columns(input_features):\n",
    "  \"\"\"Construct the TensorFlow Feature Columns.\n",
    "\n",
    "  Args:\n",
    "    input_features: The names of the numerical input features to use.\n",
    "  Returns:\n",
    "    A set of feature columns\n",
    "  \"\"\" \n",
    "  return set([tf.feature_column.numeric_column(my_feature)\n",
    "              for my_feature in input_features])"
   ]
  },
  {
   "cell_type": "code",
   "execution_count": 7,
   "metadata": {},
   "outputs": [],
   "source": [
    "#Return next batch (Of type of Tensorflow Dataset)\n",
    "def input_fn(features, targets, batch_size=1, shuffle=True, num_epochs=None):\n",
    "    dataset = tf.data.Dataset.from_tensor_slices((dict(features), targets))\n",
    "    \n",
    "    if(shuffle):\n",
    "        dataset = dataset.shuffle(1000)\n",
    "    \n",
    "    dataset = dataset.batch(batch_size).repeat(num_epochs)\n",
    "    \n",
    "    return dataset"
   ]
  },
  {
   "cell_type": "code",
   "execution_count": 8,
   "metadata": {},
   "outputs": [],
   "source": [
    "def train_linear_regression_model(\n",
    "    learning_rate,\n",
    "    steps,\n",
    "    batch_size,\n",
    "    training_examples,\n",
    "    training_targets,\n",
    "    validation_examples,\n",
    "    validation_targets):\n",
    "    \n",
    "    periods = 10\n",
    "    steps_per_period = steps / periods\n",
    "    \n",
    "    #Initialize Linear Regressor\n",
    "    optimizer = tf.train.GradientDescentOptimizer(learning_rate=learning_rate)\n",
    "    optimizer = tf.contrib.estimator.clip_gradients_by_norm(optimizer, 5.0)\n",
    "    linear_regressor = tf.estimator.LinearRegressor(\n",
    "        feature_columns=construct_feature_columns(training_examples),\n",
    "        optimizer=optimizer\n",
    "    )\n",
    "    \n",
    "    #Training Functions\n",
    "    training_input_fn = lambda: input_fn(\n",
    "        training_examples,\n",
    "        training_targets,\n",
    "        batch_size=batch_size) \n",
    "    predict_training_input_fn = lambda: input_fn(\n",
    "        training_examples, \n",
    "        training_targets, \n",
    "        num_epochs=1, \n",
    "        shuffle=False)\n",
    "    \n",
    "    #Validation Function\n",
    "    predict_validation_input_fn = lambda: input_fn(\n",
    "        validation_examples, \n",
    "        validation_targets, \n",
    "        num_epochs=1, \n",
    "        shuffle=False)\n",
    "    \n",
    "    #Train Model\n",
    "    training_rmse = []\n",
    "    validation_rmse = []\n",
    "    \n",
    "    print(\"Training Model\")\n",
    "    for period in range(0, periods):\n",
    "        linear_regressor.train(\n",
    "            input_fn=training_input_fn,\n",
    "            #Manually break total steps by 10\n",
    "            steps=steps_per_period\n",
    "        )\n",
    "        \n",
    "        #Use Sklearn to calculate RMSE\n",
    "        training_predictions = linear_regressor.predict(input_fn=predict_training_input_fn)\n",
    "        training_predictions = np.array([item['predictions'][0] for item in training_predictions])\n",
    "        training_root_mean_squared_error = math.sqrt(metrics.mean_squared_error(training_predictions, training_targets))\n",
    "        \n",
    "        #Calculate Validation RMSE\n",
    "        validation_predictions = linear_regressor.predict(input_fn=predict_validation_input_fn)\n",
    "        validation_predictions = np.array([item['predictions'][0] for item in validation_predictions])\n",
    "        validation_root_mean_squared_error = math.sqrt(metrics.mean_squared_error(validation_predictions, validation_targets))\n",
    "        \n",
    "        #Append Losses\n",
    "        training_rmse.append(training_root_mean_squared_error)\n",
    "        validation_rmse.append(validation_root_mean_squared_error)\n",
    "        \n",
    "        print(\"Period:\", period, \"RMSE:\", training_root_mean_squared_error)\n",
    "    print(\"Training Finished\")\n",
    "    \n",
    "    #Graph\n",
    "    plt.ylabel(\"RMSE\")\n",
    "    plt.xlabel(\"Periods\")\n",
    "    plt.title(\"Root Mean Squared Error vs. Periods\")\n",
    "    plt.tight_layout()\n",
    "    plt.plot(training_rmse, label=\"training\")\n",
    "    plt.plot(validation_rmse, label=\"validation\")\n",
    "    plt.legend()\n",
    "    \n",
    "    return linear_regressor"
   ]
  },
  {
   "cell_type": "code",
   "execution_count": 9,
   "metadata": {},
   "outputs": [],
   "source": [
    "def train_dnn_regression_model(\n",
    "    learning_rate,\n",
    "    steps,\n",
    "    batch_size,\n",
    "    hidden_units,\n",
    "    training_examples,\n",
    "    training_targets,\n",
    "    validation_examples,\n",
    "    validation_targets):\n",
    "\n",
    "    periods = 10\n",
    "    steps_per_period = steps / periods\n",
    "    \n",
    "    #Initialize DNN Regressor\n",
    "    optimizer = tf.train.GradientDescentOptimizer(learning_rate=learning_rate)\n",
    "    optimizer = tf.contrib.estimator.clip_gradients_by_norm(optimizer, 5.0)\n",
    "    dnn_regressor = tf.estimator.DNNRegressor(\n",
    "        feature_columns=construct_feature_columns(training_examples),\n",
    "        hidden_units=hidden_units,\n",
    "        optimizer=optimizer,\n",
    "    )\n",
    "    \n",
    "    #Training Functions\n",
    "    training_input_fn = lambda: input_fn(\n",
    "        training_examples,\n",
    "        training_targets,\n",
    "        batch_size=batch_size) \n",
    "    predict_training_input_fn = lambda: input_fn(\n",
    "        training_examples, \n",
    "        training_targets, \n",
    "        num_epochs=1, \n",
    "        shuffle=False)\n",
    "    \n",
    "    #Validation Function\n",
    "    predict_validation_input_fn = lambda: input_fn(\n",
    "        validation_examples, \n",
    "        validation_targets, \n",
    "        num_epochs=1, \n",
    "        shuffle=False)\n",
    "    \n",
    "    #Train Model\n",
    "    training_rmse = []\n",
    "    validation_rmse = []\n",
    "    \n",
    "    print(\"Training Model\")\n",
    "    for period in range(0, periods):\n",
    "        linear_regressor.train(\n",
    "            input_fn=training_input_fn,\n",
    "            #Manually break total steps by 10\n",
    "            steps=steps_per_period\n",
    "        )\n",
    "        \n",
    "        #Use Sklearn to calculate RMSE\n",
    "        training_predictions = linear_regressor.predict(input_fn=predict_training_input_fn)\n",
    "        training_predictions = np.array([item['predictions'][0] for item in training_predictions])\n",
    "        training_root_mean_squared_error = math.sqrt(metrics.mean_squared_error(training_predictions, training_targets))\n",
    "        \n",
    "        #Calculate Validation RMSE\n",
    "        validation_predictions = linear_regressor.predict(input_fn=predict_validation_input_fn)\n",
    "        validation_predictions = np.array([item['predictions'][0] for item in validation_predictions])\n",
    "        validation_root_mean_squared_error = math.sqrt(metrics.mean_squared_error(validation_predictions, validation_targets))\n",
    "        \n",
    "        #Append Losses\n",
    "        training_rmse.append(training_root_mean_squared_error)\n",
    "        validation_rmse.append(validation_root_mean_squared_error)\n",
    "        \n",
    "        print(\"Period:\", period, \"RMSE:\", training_root_mean_squared_error)\n",
    "    print(\"Training Finished\")\n",
    "    \n",
    "    #Graph\n",
    "    plt.ylabel(\"RMSE\")\n",
    "    plt.xlabel(\"Periods\")\n",
    "    plt.title(\"Root Mean Squared Error vs. Periods\")\n",
    "    plt.tight_layout()\n",
    "    plt.plot(training_rmse, label=\"training\")\n",
    "    plt.plot(validation_rmse, label=\"validation\")\n",
    "    plt.legend()\n",
    "    \n",
    "    return dnn_regressor"
   ]
  },
  {
   "cell_type": "markdown",
   "metadata": {},
   "source": [
    "**Training**"
   ]
  },
  {
   "cell_type": "code",
   "execution_count": 10,
   "metadata": {
    "scrolled": true
   },
   "outputs": [
    {
     "name": "stderr",
     "output_type": "stream",
     "text": [
      "W0706 17:01:58.349461 140537045276288 lazy_loader.py:50] \n",
      "The TensorFlow contrib module will not be included in TensorFlow 2.0.\n",
      "For more information, please see:\n",
      "  * https://github.com/tensorflow/community/blob/master/rfcs/20180907-contrib-sunset.md\n",
      "  * https://github.com/tensorflow/addons\n",
      "  * https://github.com/tensorflow/io (for I/O related ops)\n",
      "If you depend on functionality not listed there, please file an issue.\n",
      "\n",
      "W0706 17:01:58.351387 140537045276288 estimator.py:1811] Using temporary folder as model directory: /tmp/tmph1dpe6jq\n",
      "W0706 17:01:58.360942 140537045276288 deprecation.py:323] From /usr/lib/python3.7/site-packages/tensorflow/python/training/training_util.py:236: Variable.initialized_value (from tensorflow.python.ops.variables) is deprecated and will be removed in a future version.\n",
      "Instructions for updating:\n",
      "Use Variable.read_value. Variables in 2.X are initialized automatically both in eager and graph (inside tf.defun) contexts.\n"
     ]
    },
    {
     "name": "stdout",
     "output_type": "stream",
     "text": [
      "Training Model\n"
     ]
    },
    {
     "name": "stderr",
     "output_type": "stream",
     "text": [
      "W0706 17:01:59.159428 140537045276288 deprecation.py:323] From /usr/lib/python3.7/site-packages/tensorflow_estimator/python/estimator/canned/linear.py:308: to_float (from tensorflow.python.ops.math_ops) is deprecated and will be removed in a future version.\n",
      "Instructions for updating:\n",
      "Use `tf.cast` instead.\n",
      "W0706 17:02:00.041765 140537045276288 deprecation.py:323] From /usr/lib/python3.7/site-packages/tensorflow/python/ops/clip_ops.py:286: add_dispatch_support.<locals>.wrapper (from tensorflow.python.ops.array_ops) is deprecated and will be removed in a future version.\n",
      "Instructions for updating:\n",
      "Use tf.where in 2.0, which has the same broadcast rule as np.where\n",
      "W0706 17:02:03.293570 140537045276288 deprecation.py:323] From /usr/lib/python3.7/site-packages/tensorflow/python/training/saver.py:1276: checkpoint_exists (from tensorflow.python.training.checkpoint_management) is deprecated and will be removed in a future version.\n",
      "Instructions for updating:\n",
      "Use standard file APIs to check for files with this prefix.\n"
     ]
    },
    {
     "name": "stdout",
     "output_type": "stream",
     "text": [
      "Period: 0 RMSE: 0.8145307088270701\n"
     ]
    },
    {
     "name": "stderr",
     "output_type": "stream",
     "text": [
      "W0706 17:02:07.303664 140537045276288 deprecation.py:323] From /usr/lib/python3.7/site-packages/tensorflow/python/training/saver.py:1066: get_checkpoint_mtimes (from tensorflow.python.training.checkpoint_management) is deprecated and will be removed in a future version.\n",
      "Instructions for updating:\n",
      "Use standard file utilities to get mtimes.\n"
     ]
    },
    {
     "name": "stdout",
     "output_type": "stream",
     "text": [
      "Period: 1 RMSE: 0.6640936929128368\n",
      "Period: 2 RMSE: 0.5604794537654317\n",
      "Period: 3 RMSE: 0.5026135856819791\n"
     ]
    },
    {
     "name": "stderr",
     "output_type": "stream",
     "text": [
      "W0706 17:02:27.910974 140537045276288 deprecation.py:323] From /usr/lib/python3.7/site-packages/tensorflow/python/training/saver.py:960: remove_checkpoint (from tensorflow.python.training.checkpoint_management) is deprecated and will be removed in a future version.\n",
      "Instructions for updating:\n",
      "Use standard file APIs to delete files with this prefix.\n"
     ]
    },
    {
     "name": "stdout",
     "output_type": "stream",
     "text": [
      "Period: 4 RMSE: 0.46597815069280435\n",
      "Period: 5 RMSE: 0.4410791625384732\n",
      "Period: 6 RMSE: 0.4216435107508392\n",
      "Period: 7 RMSE: 0.4055837802367462\n",
      "Period: 8 RMSE: 0.39281177959841856\n",
      "Period: 9 RMSE: 0.38085606445665704\n",
      "Training Finished\n"
     ]
    },
    {
     "data": {
      "image/png": "[encoded data removed]",
      "text/plain": [
       "<Figure size 432x288 with 1 Axes>"
      ]
     },
     "metadata": {
      "needs_background": "light"
     },
     "output_type": "display_data"
    }
   ],
   "source": [
    "linear_regressor = train_linear_regression_model(\n",
    "    learning_rate=0.001,\n",
    "    steps=200,\n",
    "    batch_size=20,\n",
    "    training_examples=training_examples,\n",
    "    training_targets=training_targets,\n",
    "    validation_examples=validation_examples,\n",
    "    validation_targets=validation_targets)"
   ]
  },
  {
   "cell_type": "code",
   "execution_count": 16,
   "metadata": {},
   "outputs": [
    {
     "name": "stderr",
     "output_type": "stream",
     "text": [
      "W0706 17:05:18.517226 140537045276288 estimator.py:1811] Using temporary folder as model directory: /tmp/tmpjji8gl6x\n"
     ]
    },
    {
     "name": "stdout",
     "output_type": "stream",
     "text": [
      "Training Model\n",
      "Period: 0 RMSE: 0.3397844224781536\n",
      "Period: 1 RMSE: 0.3395320119999693\n",
      "Period: 2 RMSE: 0.3394554827281717\n",
      "Period: 3 RMSE: 0.3400980772387518\n",
      "Period: 4 RMSE: 0.33963948588842113\n",
      "Period: 5 RMSE: 0.3392180249439676\n",
      "Period: 6 RMSE: 0.33978884900609013\n",
      "Period: 7 RMSE: 0.340247233347369\n",
      "Period: 8 RMSE: 0.3407622439840552\n",
      "Period: 9 RMSE: 0.3409684056650045\n",
      "Training Finished\n"
     ]
    },
    {
     "data": {
      "image/png": "[encoded data removed]",
      "text/plain": [
       "<Figure size 432x288 with 1 Axes>"
      ]
     },
     "metadata": {
      "needs_background": "light"
     },
     "output_type": "display_data"
    }
   ],
   "source": [
    "dnn_regressor = train_dnn_regression_model(\n",
    "    learning_rate=0.1,\n",
    "    steps=500,\n",
    "    batch_size=20,\n",
    "    hidden_units=[3, 2],\n",
    "    training_examples=training_examples,\n",
    "    training_targets=training_targets,\n",
    "    validation_examples=validation_examples,\n",
    "    validation_targets=validation_targets)"
   ]
  },
  {
   "cell_type": "markdown",
   "metadata": {},
   "source": [
    "**Test Data**"
   ]
  },
  {
   "cell_type": "code",
   "execution_count": 12,
   "metadata": {},
   "outputs": [],
   "source": [
    "def test_model(model, test_examples, test_targets):\n",
    "    predict_test_input_fn = lambda: input_fn(\n",
    "        test_examples, \n",
    "        test_targets, \n",
    "        num_epochs=1, \n",
    "        shuffle=False)\n",
    "    \n",
    "    test_predictions = model.predict(input_fn=predict_test_input_fn)\n",
    "    test_predictions = np.array([item['predictions'][0] for item in test_predictions])\n",
    "\n",
    "    for prediction, label in zip(test_predictions, test_targets): \n",
    "        if(prediction * label > 0):\n",
    "            print(\"Prediction:\", prediction, \"Label:\", label)\n",
    "        else:\n",
    "            print(\"Prediction:\", prediction, \"Label:\", label, \"WRONG\")\n",
    "    \n",
    "    return test_predictions"
   ]
  },
  {
   "cell_type": "code",
   "execution_count": 13,
   "metadata": {
    "scrolled": true
   },
   "outputs": [
    {
     "name": "stdout",
     "output_type": "stream",
     "text": [
      "Prediction: 0.78570193 Label: 1\n",
      "Prediction: 0.9766167 Label: 1\n",
      "Prediction: -0.98592573 Label: -1\n",
      "Prediction: -1.1961235 Label: -1\n",
      "Prediction: 0.9359408 Label: 1\n",
      "Prediction: 0.8959475 Label: 1\n",
      "Prediction: -0.46925342 Label: -1\n",
      "Prediction: -1.0753037 Label: -1\n",
      "Prediction: 0.92393905 Label: 1\n",
      "Prediction: 0.8959475 Label: 1\n",
      "Prediction: 0.88670605 Label: 1\n",
      "Prediction: 0.7579046 Label: 1\n",
      "Prediction: 0.8358678 Label: 1\n",
      "Prediction: -0.75566375 Label: -1\n",
      "Prediction: -0.9213311 Label: -1\n",
      "Prediction: -1.0396699 Label: -1\n",
      "Prediction: -0.83703035 Label: -1\n",
      "Prediction: -1.0146397 Label: -1\n",
      "Prediction: 0.9621032 Label: 1\n",
      "Prediction: -1.0191622 Label: -1\n",
      "Prediction: -1.0787511 Label: -1\n",
      "Prediction: -0.7142697 Label: -1\n",
      "Prediction: 0.7583292 Label: 1\n",
      "Prediction: -1.115357 Label: -1\n",
      "Prediction: -0.80098933 Label: -1\n",
      "Prediction: -1.0176059 Label: -1\n",
      "Prediction: 0.799594 Label: 1\n",
      "Prediction: -0.951053 Label: -1\n",
      "Prediction: -0.18383294 Label: -1\n",
      "Prediction: -0.75739133 Label: -1\n",
      "Prediction: -1.0004526 Label: -1\n",
      "Prediction: -0.94302535 Label: -1\n",
      "Prediction: -0.9738703 Label: -1\n",
      "Prediction: 1.028527 Label: 1\n",
      "Prediction: -0.9213311 Label: -1\n",
      "Prediction: 0.957285 Label: 1\n",
      "Prediction: -0.95440894 Label: -1\n",
      "Prediction: -0.9630205 Label: -1\n",
      "Prediction: 0.9519306 Label: 1\n",
      "Prediction: 0.5882666 Label: 1\n",
      "Prediction: 0.9621032 Label: 1\n",
      "Prediction: 1.08701 Label: 1\n",
      "Prediction: -0.4062631 Label: -1\n",
      "Prediction: -0.9502267 Label: -1\n",
      "Test RMSE: 0.21937538624537498\n"
     ]
    }
   ],
   "source": [
    "#Linear Regressor\n",
    "test_predictions_linear_regressor = test_model(linear_regressor, test_examples, test_targets)\n",
    "test_rmse_linear_regressor = math.sqrt(metrics.mean_squared_error(test_predictions_linear_regressor, test_targets))\n",
    "print(\"Test RMSE:\", test_rmse_linear_regressor)"
   ]
  },
  {
   "cell_type": "code",
   "execution_count": 18,
   "metadata": {
    "scrolled": true
   },
   "outputs": [
    {
     "name": "stdout",
     "output_type": "stream",
     "text": [
      "Prediction: 0.12731607 Label: 1\n",
      "Prediction: 0.6067209 Label: 1\n",
      "Prediction: 0.0 Label: -1 WRONG\n",
      "Prediction: 0.18774669 Label: -1 WRONG\n",
      "Prediction: 0.95504665 Label: 1\n",
      "Prediction: 0.19288702 Label: 1\n",
      "Prediction: 0.31194967 Label: -1 WRONG\n",
      "Prediction: 0.24363396 Label: -1 WRONG\n",
      "Prediction: 0.23470692 Label: 1\n",
      "Prediction: 0.19288702 Label: 1\n",
      "Prediction: 0.96027446 Label: 1\n",
      "Prediction: 0.6353964 Label: 1\n",
      "Prediction: 0.7937002 Label: 1\n",
      "Prediction: 0.5182433 Label: -1 WRONG\n",
      "Prediction: 0.0 Label: -1 WRONG\n",
      "Prediction: 0.7845984 Label: -1 WRONG\n",
      "Prediction: 0.21612762 Label: -1 WRONG\n",
      "Prediction: 0.68936497 Label: -1 WRONG\n",
      "Prediction: 0.41731298 Label: 1\n",
      "Prediction: 0.0693717 Label: -1 WRONG\n",
      "Prediction: 0.0 Label: -1 WRONG\n",
      "Prediction: 0.27692848 Label: -1 WRONG\n",
      "Prediction: 1.3054712 Label: 1\n",
      "Prediction: 0.0 Label: -1 WRONG\n",
      "Prediction: 0.10982446 Label: -1 WRONG\n",
      "Prediction: 0.03082379 Label: -1 WRONG\n",
      "Prediction: 0.36569923 Label: 1\n",
      "Prediction: 1.2735353 Label: -1 WRONG\n",
      "Prediction: 0.9555586 Label: -1 WRONG\n",
      "Prediction: 0.26203537 Label: -1 WRONG\n",
      "Prediction: 0.36180487 Label: -1 WRONG\n",
      "Prediction: 0.0 Label: -1 WRONG\n",
      "Prediction: 0.079975694 Label: -1 WRONG\n",
      "Prediction: 0.8512382 Label: 1\n",
      "Prediction: 0.0 Label: -1 WRONG\n",
      "Prediction: 0.65946615 Label: 1\n",
      "Prediction: 0.0 Label: -1 WRONG\n",
      "Prediction: 0.01954637 Label: -1 WRONG\n",
      "Prediction: 0.3297393 Label: 1\n",
      "Prediction: 0.3123461 Label: 1\n",
      "Prediction: 0.41731298 Label: 1\n",
      "Prediction: 0.7707492 Label: 1\n",
      "Prediction: 0.08838252 Label: -1 WRONG\n",
      "Prediction: 0.38878065 Label: -1 WRONG\n",
      "Test RMSE: 1.0617377892500033\n"
     ]
    }
   ],
   "source": [
    "#DNN Regressor\n",
    "test_predictions_dnn_regressor = test_model(dnn_regressor, test_examples, test_targets)\n",
    "test_rmse_dnn_regressor = math.sqrt(metrics.mean_squared_error(test_predictions_dnn_regressor, test_targets))\n",
    "print(\"Test RMSE:\", test_rmse_dnn_regressor)"
   ]
  },
  {
   "cell_type": "markdown",
   "metadata": {},
   "source": [
    "**Additional Info**"
   ]
  },
  {
   "cell_type": "code",
   "execution_count": 15,
   "metadata": {},
   "outputs": [
    {
     "name": "stdout",
     "output_type": "stream",
     "text": [
      "global_step 700\n",
      "linear/linear_model/adoption-of-the-budget-resolution/weights [[-0.13255574]]\n",
      "linear/linear_model/aid-to-nicaraguan-contras/weights [[0.02491523]]\n",
      "linear/linear_model/anti-satellite-test-ban/weights [[0.03376081]]\n",
      "linear/linear_model/bias_weights [-0.07903603]\n",
      "linear/linear_model/crime/weights [[0.0084819]]\n",
      "linear/linear_model/duty-free-exports/weights [[-0.00314725]]\n",
      "linear/linear_model/education-spending/weights [[0.100073]]\n",
      "linear/linear_model/el-salvador-aid/weights [[0.08755795]]\n",
      "linear/linear_model/export-administration-act-south-africa/weights [[0.03307787]]\n",
      "linear/linear_model/handicapped-infants/weights [[-0.01575839]]\n",
      "linear/linear_model/immigration/weights [[0.03575504]]\n",
      "linear/linear_model/mx-missile/weights [[-0.03660591]]\n",
      "linear/linear_model/physician-fee-freeze/weights [[0.7074448]]\n",
      "linear/linear_model/religious-groups-in-schools/weights [[-0.05614161]]\n",
      "linear/linear_model/superfund-right-to-sue/weights [[-0.01933168]]\n",
      "linear/linear_model/synfuels-corporation-cutback/weights [[-0.08125462]]\n",
      "linear/linear_model/water-project-cost-sharing/weights [[-0.00508633]]\n"
     ]
    }
   ],
   "source": [
    "#Linear Regressor Weights\n",
    "for v in linear_regressor.get_variable_names():\n",
    "    print(v, linear_regressor.get_variable_value(v))"
   ]
  },
  {
   "cell_type": "code",
   "execution_count": 23,
   "metadata": {},
   "outputs": [],
   "source": [
    "#DNN Regressor Weights\n",
    "#for v in dnn_regressor.get_variable_names():\n",
    "#    print(v, \"\\n\", dnn_regressor.get_variable_value(v))"
   ]
  }
 ],
 "metadata": {
  "kernelspec": {
   "display_name": "Python 3",
   "language": "python",
   "name": "python3"
  },
  "language_info": {
   "codemirror_mode": {
    "name": "ipython",
    "version": 3
   },
   "file_extension": ".py",
   "mimetype": "text/x-python",
   "name": "python",
   "nbconvert_exporter": "python",
   "pygments_lexer": "ipython3",
   "version": "3.7.3"
  }
 },
 "nbformat": 4,
 "nbformat_minor": 2
}
