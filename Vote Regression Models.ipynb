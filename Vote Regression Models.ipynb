{
 "cells": [
  {
   "cell_type": "markdown",
   "metadata": {},
   "source": [
    "**Import Libraries**"
   ]
  },
  {
   "cell_type": "code",
   "execution_count": 1,
   "metadata": {},
   "outputs": [
    {
     "name": "stderr",
     "output_type": "stream",
     "text": [
      "WARNING: Logging before flag parsing goes to stderr.\n",
      "W0708 17:37:51.925051 139624952112768 __init__.py:308] Limited tf.compat.v2.summary API due to missing TensorBoard installation.\n"
     ]
    }
   ],
   "source": [
    "from __future__ import print_function\n",
    "import math\n",
    "from IPython import display\n",
    "from matplotlib import cm\n",
    "from matplotlib import gridspec\n",
    "from matplotlib import pyplot as plt\n",
    "import numpy as np\n",
    "import pandas as pd\n",
    "from sklearn import metrics\n",
    "import tensorflow as tf\n",
    "from tensorflow.python.data import Dataset"
   ]
  },
  {
   "cell_type": "markdown",
   "metadata": {},
   "source": [
    "**Read CSV File and Randomize**"
   ]
  },
  {
   "cell_type": "code",
   "execution_count": 2,
   "metadata": {},
   "outputs": [],
   "source": [
    "votes_dataframe = pd.read_csv(\"vote_csv.csv\")\n",
    "#Yes 1\n",
    "#No -1\n",
    "#NaN 0\n",
    "#Republican 1\n",
    "#Democrat -1\n",
    "votes_dataframe = votes_dataframe.replace(\"y\", 1)\n",
    "votes_dataframe = votes_dataframe.replace(\"n\", -1)\n",
    "votes_dataframe = votes_dataframe.replace(\"republican\", 1)\n",
    "votes_dataframe = votes_dataframe.replace(\"democrat\", -1)\n",
    "votes_dataframe = votes_dataframe.fillna(0)\n",
    "votes_dataframe = votes_dataframe.reindex(np.random.permutation(votes_dataframe.index))"
   ]
  },
  {
   "cell_type": "markdown",
   "metadata": {},
   "source": [
    "**Create Training and Validation Data**"
   ]
  },
  {
   "cell_type": "code",
   "execution_count": 3,
   "metadata": {},
   "outputs": [],
   "source": [
    "def preprocess_features(votes_dataframe):\n",
    "    output_features = votes_dataframe.iloc[:,0:16]\n",
    "    \n",
    "    return output_features"
   ]
  },
  {
   "cell_type": "code",
   "execution_count": 4,
   "metadata": {},
   "outputs": [],
   "source": [
    "#Single Panda Series\n",
    "def preprocess_targets(votes_dataframe):\n",
    "    output_targets = votes_dataframe[\"Class\"]\n",
    "\n",
    "    return output_targets"
   ]
  },
  {
   "cell_type": "code",
   "execution_count": 5,
   "metadata": {
    "scrolled": true
   },
   "outputs": [],
   "source": [
    "training_split = int(0.6 * len(votes_dataframe))\n",
    "validations_split = int(0.3 * len(votes_dataframe))\n",
    "\n",
    "#Panda Data\n",
    "training_examples = preprocess_features(votes_dataframe.iloc[0:training_split])\n",
    "training_targets = preprocess_targets(votes_dataframe.iloc[0:training_split])\n",
    "validation_examples = preprocess_features(votes_dataframe.iloc[training_split:training_split + validations_split])\n",
    "validation_targets = preprocess_targets(votes_dataframe.iloc[training_split:training_split + validations_split])\n",
    "#Do not touch until end!\n",
    "test_examples = preprocess_features(votes_dataframe.iloc[training_split + validations_split:])\n",
    "test_targets = preprocess_targets(votes_dataframe.iloc[training_split + validations_split:])"
   ]
  },
  {
   "cell_type": "markdown",
   "metadata": {},
   "source": [
    "**Training Functions**"
   ]
  },
  {
   "cell_type": "code",
   "execution_count": 6,
   "metadata": {},
   "outputs": [],
   "source": [
    "#From Google Crash Course\n",
    "#Create Tensorflow Columns\n",
    "def construct_feature_columns(input_features):\n",
    "  \"\"\"Construct the TensorFlow Feature Columns.\n",
    "\n",
    "  Args:\n",
    "    input_features: The names of the numerical input features to use.\n",
    "  Returns:\n",
    "    A set of feature columns\n",
    "  \"\"\" \n",
    "  return set([tf.feature_column.numeric_column(my_feature)\n",
    "              for my_feature in input_features])"
   ]
  },
  {
   "cell_type": "code",
   "execution_count": 7,
   "metadata": {},
   "outputs": [],
   "source": [
    "#Return next batch (Of type of Tensorflow Dataset)\n",
    "def input_fn(features, targets, batch_size=1, shuffle=True, num_epochs=None):\n",
    "    dataset = tf.data.Dataset.from_tensor_slices((dict(features), targets))\n",
    "    \n",
    "    if(shuffle):\n",
    "        dataset = dataset.shuffle(1000)\n",
    "    \n",
    "    dataset = dataset.batch(batch_size).repeat(num_epochs)\n",
    "    \n",
    "    return dataset"
   ]
  },
  {
   "cell_type": "code",
   "execution_count": 8,
   "metadata": {},
   "outputs": [],
   "source": [
    "def train_linear_regression_model(\n",
    "    learning_rate,\n",
    "    steps,\n",
    "    batch_size,\n",
    "    training_examples,\n",
    "    training_targets,\n",
    "    validation_examples,\n",
    "    validation_targets):\n",
    "    \n",
    "    periods = 10\n",
    "    steps_per_period = steps / periods\n",
    "    \n",
    "    #Initialize Linear Regressor\n",
    "    optimizer = tf.train.GradientDescentOptimizer(learning_rate=learning_rate)\n",
    "    optimizer = tf.contrib.estimator.clip_gradients_by_norm(optimizer, 5.0)\n",
    "    linear_regressor = tf.estimator.LinearRegressor(\n",
    "        feature_columns=construct_feature_columns(training_examples),\n",
    "        optimizer=optimizer\n",
    "    )\n",
    "    \n",
    "    #Training Functions\n",
    "    training_input_fn = lambda: input_fn(\n",
    "        training_examples,\n",
    "        training_targets,\n",
    "        batch_size=batch_size) \n",
    "    predict_training_input_fn = lambda: input_fn(\n",
    "        training_examples, \n",
    "        training_targets, \n",
    "        num_epochs=1, \n",
    "        shuffle=False)\n",
    "    \n",
    "    #Validation Function\n",
    "    predict_validation_input_fn = lambda: input_fn(\n",
    "        validation_examples, \n",
    "        validation_targets, \n",
    "        num_epochs=1, \n",
    "        shuffle=False)\n",
    "    \n",
    "    #Train Model\n",
    "    training_rmse = []\n",
    "    validation_rmse = []\n",
    "    \n",
    "    print(\"Training Model\")\n",
    "    for period in range(0, periods):\n",
    "        linear_regressor.train(\n",
    "            input_fn=training_input_fn,\n",
    "            #Manually break total steps by 10\n",
    "            steps=steps_per_period\n",
    "        )\n",
    "        \n",
    "        #Use Sklearn to calculate RMSE\n",
    "        training_predictions = linear_regressor.predict(input_fn=predict_training_input_fn)\n",
    "        training_predictions = np.array([item['predictions'][0] for item in training_predictions])\n",
    "        training_root_mean_squared_error = math.sqrt(metrics.mean_squared_error(training_predictions, training_targets))\n",
    "        \n",
    "        #Calculate Validation RMSE\n",
    "        validation_predictions = linear_regressor.predict(input_fn=predict_validation_input_fn)\n",
    "        validation_predictions = np.array([item['predictions'][0] for item in validation_predictions])\n",
    "        validation_root_mean_squared_error = math.sqrt(metrics.mean_squared_error(validation_predictions, validation_targets))\n",
    "        \n",
    "        #Append Losses\n",
    "        training_rmse.append(training_root_mean_squared_error)\n",
    "        validation_rmse.append(validation_root_mean_squared_error)\n",
    "        \n",
    "        print(\"Period:\", period, \"RMSE:\", training_root_mean_squared_error)\n",
    "    print(\"Training Finished\")\n",
    "    \n",
    "    #Graph\n",
    "    plt.ylabel(\"RMSE\")\n",
    "    plt.xlabel(\"Periods\")\n",
    "    plt.title(\"Root Mean Squared Error vs. Periods\")\n",
    "    plt.tight_layout()\n",
    "    plt.plot(training_rmse, label=\"training\")\n",
    "    plt.plot(validation_rmse, label=\"validation\")\n",
    "    plt.legend()\n",
    "    \n",
    "    return linear_regressor"
   ]
  },
  {
   "cell_type": "code",
   "execution_count": 9,
   "metadata": {},
   "outputs": [],
   "source": [
    "def train_dnn_regression_model(\n",
    "    learning_rate,\n",
    "    steps,\n",
    "    batch_size,\n",
    "    hidden_units,\n",
    "    training_examples,\n",
    "    training_targets,\n",
    "    validation_examples,\n",
    "    validation_targets):\n",
    "\n",
    "    periods = 10\n",
    "    steps_per_period = steps / periods\n",
    "    \n",
    "    #Initialize DNN Regressor\n",
    "    optimizer = tf.train.GradientDescentOptimizer(learning_rate=learning_rate)\n",
    "    optimizer = tf.contrib.estimator.clip_gradients_by_norm(optimizer, 5.0)\n",
    "    dnn_regressor = tf.estimator.DNNRegressor(\n",
    "        feature_columns=construct_feature_columns(training_examples),\n",
    "        hidden_units=hidden_units,\n",
    "        optimizer=optimizer,\n",
    "    )\n",
    "    \n",
    "    #Training Functions\n",
    "    training_input_fn = lambda: input_fn(\n",
    "        training_examples,\n",
    "        training_targets,\n",
    "        batch_size=batch_size) \n",
    "    predict_training_input_fn = lambda: input_fn(\n",
    "        training_examples, \n",
    "        training_targets, \n",
    "        num_epochs=1, \n",
    "        shuffle=False)\n",
    "    \n",
    "    #Validation Function\n",
    "    predict_validation_input_fn = lambda: input_fn(\n",
    "        validation_examples, \n",
    "        validation_targets, \n",
    "        num_epochs=1, \n",
    "        shuffle=False)\n",
    "    \n",
    "    #Train Model\n",
    "    training_rmse = []\n",
    "    validation_rmse = []\n",
    "    \n",
    "    print(\"Training Model\")\n",
    "    for period in range(0, periods):\n",
    "        linear_regressor.train(\n",
    "            input_fn=training_input_fn,\n",
    "            #Manually break total steps by 10\n",
    "            steps=steps_per_period\n",
    "        )\n",
    "        \n",
    "        #Use Sklearn to calculate RMSE\n",
    "        training_predictions = linear_regressor.predict(input_fn=predict_training_input_fn)\n",
    "        training_predictions = np.array([item['predictions'][0] for item in training_predictions])\n",
    "        training_root_mean_squared_error = math.sqrt(metrics.mean_squared_error(training_predictions, training_targets))\n",
    "        \n",
    "        #Calculate Validation RMSE\n",
    "        validation_predictions = linear_regressor.predict(input_fn=predict_validation_input_fn)\n",
    "        validation_predictions = np.array([item['predictions'][0] for item in validation_predictions])\n",
    "        validation_root_mean_squared_error = math.sqrt(metrics.mean_squared_error(validation_predictions, validation_targets))\n",
    "        \n",
    "        #Append Losses\n",
    "        training_rmse.append(training_root_mean_squared_error)\n",
    "        validation_rmse.append(validation_root_mean_squared_error)\n",
    "        \n",
    "        print(\"Period:\", period, \"RMSE:\", training_root_mean_squared_error)\n",
    "    print(\"Training Finished\")\n",
    "    \n",
    "    #Graph\n",
    "    plt.ylabel(\"RMSE\")\n",
    "    plt.xlabel(\"Periods\")\n",
    "    plt.title(\"Root Mean Squared Error vs. Periods\")\n",
    "    plt.tight_layout()\n",
    "    plt.plot(training_rmse, label=\"training\")\n",
    "    plt.plot(validation_rmse, label=\"validation\")\n",
    "    plt.legend()\n",
    "    \n",
    "    return dnn_regressor"
   ]
  },
  {
   "cell_type": "markdown",
   "metadata": {},
   "source": [
    "**Training**"
   ]
  },
  {
   "cell_type": "code",
   "execution_count": 10,
   "metadata": {
    "scrolled": true
   },
   "outputs": [
    {
     "name": "stderr",
     "output_type": "stream",
     "text": [
      "W0708 17:37:53.333325 139624952112768 lazy_loader.py:50] \n",
      "The TensorFlow contrib module will not be included in TensorFlow 2.0.\n",
      "For more information, please see:\n",
      "  * https://github.com/tensorflow/community/blob/master/rfcs/20180907-contrib-sunset.md\n",
      "  * https://github.com/tensorflow/addons\n",
      "  * https://github.com/tensorflow/io (for I/O related ops)\n",
      "If you depend on functionality not listed there, please file an issue.\n",
      "\n",
      "W0708 17:37:53.334676 139624952112768 estimator.py:1811] Using temporary folder as model directory: /tmp/tmp264c2eo1\n",
      "W0708 17:37:53.343930 139624952112768 deprecation.py:323] From /usr/lib/python3.7/site-packages/tensorflow/python/training/training_util.py:236: Variable.initialized_value (from tensorflow.python.ops.variables) is deprecated and will be removed in a future version.\n",
      "Instructions for updating:\n",
      "Use Variable.read_value. Variables in 2.X are initialized automatically both in eager and graph (inside tf.defun) contexts.\n"
     ]
    },
    {
     "name": "stdout",
     "output_type": "stream",
     "text": [
      "Training Model\n"
     ]
    },
    {
     "name": "stderr",
     "output_type": "stream",
     "text": [
      "W0708 17:37:53.954066 139624952112768 deprecation.py:323] From /usr/lib/python3.7/site-packages/tensorflow_estimator/python/estimator/canned/linear.py:308: to_float (from tensorflow.python.ops.math_ops) is deprecated and will be removed in a future version.\n",
      "Instructions for updating:\n",
      "Use `tf.cast` instead.\n",
      "W0708 17:37:54.579551 139624952112768 deprecation.py:323] From /usr/lib/python3.7/site-packages/tensorflow/python/ops/clip_ops.py:286: add_dispatch_support.<locals>.wrapper (from tensorflow.python.ops.array_ops) is deprecated and will be removed in a future version.\n",
      "Instructions for updating:\n",
      "Use tf.where in 2.0, which has the same broadcast rule as np.where\n",
      "W0708 17:37:56.757318 139624952112768 deprecation.py:323] From /usr/lib/python3.7/site-packages/tensorflow/python/training/saver.py:1276: checkpoint_exists (from tensorflow.python.training.checkpoint_management) is deprecated and will be removed in a future version.\n",
      "Instructions for updating:\n",
      "Use standard file APIs to check for files with this prefix.\n"
     ]
    },
    {
     "name": "stdout",
     "output_type": "stream",
     "text": [
      "Period: 0 RMSE: 0.8083479459363658\n"
     ]
    },
    {
     "name": "stderr",
     "output_type": "stream",
     "text": [
      "W0708 17:37:59.172003 139624952112768 deprecation.py:323] From /usr/lib/python3.7/site-packages/tensorflow/python/training/saver.py:1066: get_checkpoint_mtimes (from tensorflow.python.training.checkpoint_management) is deprecated and will be removed in a future version.\n",
      "Instructions for updating:\n",
      "Use standard file utilities to get mtimes.\n"
     ]
    },
    {
     "name": "stdout",
     "output_type": "stream",
     "text": [
      "Period: 1 RMSE: 0.6566101601441228\n",
      "Period: 2 RMSE: 0.5593183035323789\n",
      "Period: 3 RMSE: 0.5071407595042766\n"
     ]
    },
    {
     "name": "stderr",
     "output_type": "stream",
     "text": [
      "W0708 17:38:14.884146 139624952112768 deprecation.py:323] From /usr/lib/python3.7/site-packages/tensorflow/python/training/saver.py:960: remove_checkpoint (from tensorflow.python.training.checkpoint_management) is deprecated and will be removed in a future version.\n",
      "Instructions for updating:\n",
      "Use standard file APIs to delete files with this prefix.\n"
     ]
    },
    {
     "name": "stdout",
     "output_type": "stream",
     "text": [
      "Period: 4 RMSE: 0.476952805815263\n",
      "Period: 5 RMSE: 0.4524492145634802\n",
      "Period: 6 RMSE: 0.43525666657539913\n",
      "Period: 7 RMSE: 0.41968074446859005\n",
      "Period: 8 RMSE: 0.4079658081627736\n",
      "Period: 9 RMSE: 0.39692340764797085\n",
      "Training Finished\n"
     ]
    },
    {
     "data": {
      "image/png": "[encoded data removed]",
      "text/plain": [
       "<Figure size 432x288 with 1 Axes>"
      ]
     },
     "metadata": {
      "needs_background": "light"
     },
     "output_type": "display_data"
    }
   ],
   "source": [
    "linear_regressor = train_linear_regression_model(\n",
    "    learning_rate=0.001,\n",
    "    steps=200,\n",
    "    batch_size=20,\n",
    "    training_examples=training_examples,\n",
    "    training_targets=training_targets,\n",
    "    validation_examples=validation_examples,\n",
    "    validation_targets=validation_targets)"
   ]
  },
  {
   "cell_type": "code",
   "execution_count": 11,
   "metadata": {},
   "outputs": [
    {
     "name": "stderr",
     "output_type": "stream",
     "text": [
      "W0708 17:38:42.270006 139624952112768 estimator.py:1811] Using temporary folder as model directory: /tmp/tmpms6t4xnb\n"
     ]
    },
    {
     "name": "stdout",
     "output_type": "stream",
     "text": [
      "Training Model\n",
      "Period: 0 RMSE: 0.37812865145031094\n",
      "Period: 1 RMSE: 0.36593827308245674\n",
      "Period: 2 RMSE: 0.3577469889725841\n",
      "Period: 3 RMSE: 0.3523362193971844\n",
      "Period: 4 RMSE: 0.34809465488287217\n",
      "Period: 5 RMSE: 0.34560883378831453\n",
      "Period: 6 RMSE: 0.3451875854849876\n",
      "Period: 7 RMSE: 0.343404906963845\n",
      "Period: 8 RMSE: 0.34284474456246267\n",
      "Period: 9 RMSE: 0.3416863531523725\n",
      "Training Finished\n"
     ]
    },
    {
     "data": {
      "image/png": "[encoded data removed]",
      "text/plain": [
       "<Figure size 432x288 with 1 Axes>"
      ]
     },
     "metadata": {
      "needs_background": "light"
     },
     "output_type": "display_data"
    }
   ],
   "source": [
    "dnn_regressor = train_dnn_regression_model(\n",
    "    learning_rate=0.1,\n",
    "    steps=500,\n",
    "    batch_size=20,\n",
    "    hidden_units=[3, 2],\n",
    "    training_examples=training_examples,\n",
    "    training_targets=training_targets,\n",
    "    validation_examples=validation_examples,\n",
    "    validation_targets=validation_targets)"
   ]
  },
  {
   "cell_type": "markdown",
   "metadata": {},
   "source": [
    "**Test Data**"
   ]
  },
  {
   "cell_type": "code",
   "execution_count": 12,
   "metadata": {},
   "outputs": [],
   "source": [
    "def test_model(model, test_examples, test_targets):\n",
    "    predict_test_input_fn = lambda: input_fn(\n",
    "        test_examples, \n",
    "        test_targets, \n",
    "        num_epochs=1, \n",
    "        shuffle=False)\n",
    "    \n",
    "    test_predictions = model.predict(input_fn=predict_test_input_fn)\n",
    "    test_predictions = np.array([item['predictions'][0] for item in test_predictions])\n",
    "\n",
    "    for prediction, label in zip(test_predictions, test_targets): \n",
    "        if(prediction * label > 0):\n",
    "            print(\"Prediction:\", prediction, \"Label:\", label)\n",
    "        else:\n",
    "            print(\"Prediction:\", prediction, \"Label:\", label, \"WRONG\")\n",
    "    \n",
    "    return test_predictions"
   ]
  },
  {
   "cell_type": "code",
   "execution_count": 13,
   "metadata": {
    "scrolled": true
   },
   "outputs": [
    {
     "name": "stdout",
     "output_type": "stream",
     "text": [
      "Prediction: 0.6164861 Label: 1\n",
      "Prediction: -1.1835783 Label: -1\n",
      "Prediction: -1.0391731 Label: -1\n",
      "Prediction: -0.89797485 Label: -1\n",
      "Prediction: -1.0209252 Label: -1\n",
      "Prediction: 0.96426606 Label: 1\n",
      "Prediction: 0.89276206 Label: 1\n",
      "Prediction: -1.2042096 Label: -1\n",
      "Prediction: -1.1592752 Label: -1\n",
      "Prediction: 0.7956326 Label: 1\n",
      "Prediction: 0.45947906 Label: 1\n",
      "Prediction: -0.09892872 Label: 1 WRONG\n",
      "Prediction: -0.8600235 Label: -1\n",
      "Prediction: -0.9416822 Label: -1\n",
      "Prediction: -0.9128753 Label: -1\n",
      "Prediction: 0.84131575 Label: 1\n",
      "Prediction: 0.95098305 Label: 1\n",
      "Prediction: -1.1169711 Label: -1\n",
      "Prediction: 1.2948503 Label: 1\n",
      "Prediction: 0.6193651 Label: 1\n",
      "Prediction: 0.7245418 Label: 1\n",
      "Prediction: 0.3208957 Label: -1 WRONG\n",
      "Prediction: 0.817634 Label: 1\n",
      "Prediction: -0.85641956 Label: -1\n",
      "Prediction: 0.9078262 Label: 1\n",
      "Prediction: -0.12387352 Label: -1\n",
      "Prediction: 0.66330945 Label: 1\n",
      "Prediction: -1.0001476 Label: -1\n",
      "Prediction: -0.9474318 Label: -1\n",
      "Prediction: 1.0063522 Label: 1\n",
      "Prediction: -0.910187 Label: -1\n",
      "Prediction: -1.2042096 Label: -1\n",
      "Prediction: -0.53335774 Label: -1\n",
      "Prediction: -1.1326175 Label: -1\n",
      "Prediction: 1.0948133 Label: 1\n",
      "Prediction: -1.0988107 Label: -1\n",
      "Prediction: -0.25623927 Label: -1\n",
      "Prediction: -0.7968185 Label: -1\n",
      "Prediction: 0.39800888 Label: 1\n",
      "Prediction: -0.96555614 Label: -1\n",
      "Prediction: 0.71181464 Label: 1\n",
      "Prediction: -0.94436646 Label: -1\n",
      "Prediction: -1.1692204 Label: -1\n",
      "Prediction: -1.2491186 Label: -1\n",
      "Test RMSE: 0.37910710792029495\n"
     ]
    }
   ],
   "source": [
    "#Linear Regressor\n",
    "test_predictions_linear_regressor = test_model(linear_regressor, test_examples, test_targets)\n",
    "test_rmse_linear_regressor = math.sqrt(metrics.mean_squared_error(test_predictions_linear_regressor, test_targets))\n",
    "print(\"Test RMSE:\", test_rmse_linear_regressor)"
   ]
  },
  {
   "cell_type": "code",
   "execution_count": 14,
   "metadata": {
    "scrolled": true
   },
   "outputs": [
    {
     "name": "stderr",
     "output_type": "stream",
     "text": [
      "W0708 17:39:28.339543 139624952112768 deprecation.py:506] From /usr/lib/python3.7/site-packages/tensorflow/python/ops/init_ops.py:1251: calling VarianceScaling.__init__ (from tensorflow.python.ops.init_ops) with dtype is deprecated and will be removed in a future version.\n",
      "Instructions for updating:\n",
      "Call initializer instance with the dtype argument instead of passing it to the constructor\n"
     ]
    },
    {
     "name": "stdout",
     "output_type": "stream",
     "text": [
      "Prediction: 0.0 Label: 1 WRONG\n",
      "Prediction: 0.16961041 Label: -1 WRONG\n",
      "Prediction: -0.028006822 Label: -1\n",
      "Prediction: 0.0 Label: -1 WRONG\n",
      "Prediction: 0.0 Label: -1 WRONG\n",
      "Prediction: 0.0 Label: 1 WRONG\n",
      "Prediction: -0.092265844 Label: 1 WRONG\n",
      "Prediction: 0.07409173 Label: -1 WRONG\n",
      "Prediction: 1.044854 Label: -1 WRONG\n",
      "Prediction: 0.0 Label: 1 WRONG\n",
      "Prediction: 0.16754141 Label: 1\n",
      "Prediction: 0.0 Label: 1 WRONG\n",
      "Prediction: 0.0 Label: -1 WRONG\n",
      "Prediction: 0.0 Label: -1 WRONG\n",
      "Prediction: 0.0 Label: -1 WRONG\n",
      "Prediction: 0.0 Label: 1 WRONG\n",
      "Prediction: 0.0 Label: 1 WRONG\n",
      "Prediction: 0.0 Label: -1 WRONG\n",
      "Prediction: 0.0 Label: 1 WRONG\n",
      "Prediction: 0.0 Label: 1 WRONG\n",
      "Prediction: 0.75065863 Label: 1\n",
      "Prediction: 0.0 Label: -1 WRONG\n",
      "Prediction: 0.46503505 Label: 1\n",
      "Prediction: 0.0 Label: -1 WRONG\n",
      "Prediction: 0.0 Label: 1 WRONG\n",
      "Prediction: 0.0 Label: -1 WRONG\n",
      "Prediction: 0.0 Label: 1 WRONG\n",
      "Prediction: 0.0 Label: -1 WRONG\n",
      "Prediction: 0.0383472 Label: -1 WRONG\n",
      "Prediction: 0.0 Label: 1 WRONG\n",
      "Prediction: 0.0 Label: -1 WRONG\n",
      "Prediction: 0.07409173 Label: -1 WRONG\n",
      "Prediction: 0.0 Label: -1 WRONG\n",
      "Prediction: 0.41656464 Label: -1 WRONG\n",
      "Prediction: 0.0 Label: 1 WRONG\n",
      "Prediction: -0.07535541 Label: -1\n",
      "Prediction: 0.0 Label: -1 WRONG\n",
      "Prediction: 0.0 Label: -1 WRONG\n",
      "Prediction: 0.0 Label: 1 WRONG\n",
      "Prediction: 0.0 Label: -1 WRONG\n",
      "Prediction: 0.37051415 Label: 1\n",
      "Prediction: 0.0 Label: -1 WRONG\n",
      "Prediction: 0.57497567 Label: -1 WRONG\n",
      "Prediction: 0.19553076 Label: -1 WRONG\n",
      "Test RMSE: 1.0475274621630297\n"
     ]
    }
   ],
   "source": [
    "#DNN Regressor\n",
    "test_predictions_dnn_regressor = test_model(dnn_regressor, test_examples, test_targets)\n",
    "test_rmse_dnn_regressor = math.sqrt(metrics.mean_squared_error(test_predictions_dnn_regressor, test_targets))\n",
    "print(\"Test RMSE:\", test_rmse_dnn_regressor)"
   ]
  },
  {
   "cell_type": "markdown",
   "metadata": {},
   "source": [
    "**Additional Info**"
   ]
  },
  {
   "cell_type": "code",
   "execution_count": 15,
   "metadata": {},
   "outputs": [
    {
     "name": "stdout",
     "output_type": "stream",
     "text": [
      "global_step 700\n",
      "linear/linear_model/adoption-of-the-budget-resolution/weights [[-0.23027962]]\n",
      "linear/linear_model/aid-to-nicaraguan-contras/weights [[0.05834165]]\n",
      "linear/linear_model/anti-satellite-test-ban/weights [[0.07369523]]\n",
      "linear/linear_model/bias_weights [-0.09892872]\n",
      "linear/linear_model/crime/weights [[0.00636355]]\n",
      "linear/linear_model/duty-free-exports/weights [[-0.02077765]]\n",
      "linear/linear_model/education-spending/weights [[0.04568315]]\n",
      "linear/linear_model/el-salvador-aid/weights [[0.07189324]]\n",
      "linear/linear_model/export-administration-act-south-africa/weights [[0.01221219]]\n",
      "linear/linear_model/handicapped-infants/weights [[0.00134412]]\n",
      "linear/linear_model/immigration/weights [[0.02714911]]\n",
      "linear/linear_model/mx-missile/weights [[-0.0249448]]\n",
      "linear/linear_model/physician-fee-freeze/weights [[0.6996167]]\n",
      "linear/linear_model/religious-groups-in-schools/weights [[-0.04168759]]\n",
      "linear/linear_model/superfund-right-to-sue/weights [[0.01273647]]\n",
      "linear/linear_model/synfuels-corporation-cutback/weights [[-0.09774829]]\n",
      "linear/linear_model/water-project-cost-sharing/weights [[-0.05536906]]\n"
     ]
    }
   ],
   "source": [
    "#Linear Regressor Weights\n",
    "for v in linear_regressor.get_variable_names():\n",
    "    print(v, linear_regressor.get_variable_value(v))"
   ]
  },
  {
   "cell_type": "code",
   "execution_count": 16,
   "metadata": {},
   "outputs": [],
   "source": [
    "#DNN Regressor Weights\n",
    "#for v in dnn_regressor.get_variable_names():\n",
    "#    print(v, \"\\n\", dnn_regressor.get_variable_value(v))"
   ]
  }
 ],
 "metadata": {
  "kernelspec": {
   "display_name": "Python 3",
   "language": "python",
   "name": "python3"
  },
  "language_info": {
   "codemirror_mode": {
    "name": "ipython",
    "version": 3
   },
   "file_extension": ".py",
   "mimetype": "text/x-python",
   "name": "python",
   "nbconvert_exporter": "python",
   "pygments_lexer": "ipython3",
   "version": "3.7.3"
  }
 },
 "nbformat": 4,
 "nbformat_minor": 2
}
